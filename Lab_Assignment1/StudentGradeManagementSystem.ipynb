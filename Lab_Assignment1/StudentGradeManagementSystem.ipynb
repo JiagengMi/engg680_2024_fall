{
  "cells": [
    {
      "cell_type": "markdown",
      "id": "HWXrzcz_y4W4",
      "metadata": {
        "id": "HWXrzcz_y4W4"
      },
      "source": [
        "# **ENGG680 - Introduction to Digital Engineering**\n",
        "## *Lab Assignment 1: Using Git and Python for Collaborative Coding in Google Colab*"
      ]
    },
    {
      "cell_type": "markdown",
      "id": "4fab98ae-2ed4-4d63-92bf-1de5dbb19934",
      "metadata": {
        "id": "4fab98ae-2ed4-4d63-92bf-1de5dbb19934"
      },
      "source": [
        "## Preliminary: Certificate of Work\n",
        "### (5 Marks)"
      ]
    },
    {
      "cell_type": "markdown",
      "id": "8f496d8e-869b-4d21-aa88-60d8ae45ba61",
      "metadata": {
        "id": "8f496d8e-869b-4d21-aa88-60d8ae45ba61"
      },
      "source": [
        "*We, the undersigned, certify that this is our own work, which has been done expressly for this course, either without the assistance of any other party or where appropriate we have acknowledged the work of others. Further, we have read and understood the section in the university calendar on plagiarism/cheating/other academic misconduct and we are aware of the implications thereof. We request that the total mark for this assignment be distributed as follows among group members:*"
      ]
    },
    {
      "cell_type": "markdown",
      "id": "5d9b6a22-cf19-4a2b-8b01-8a2a2a0f1f1f",
      "metadata": {
        "id": "5d9b6a22-cf19-4a2b-8b01-8a2a2a0f1f1f"
      },
      "source": [
        "|          | First Name | Last Name | Signature (Full Name, Date) | Hours | Contribution % |\n",
        "|----------|------------|-----------|-----------------------------|-------|----------------|\n",
        "| Member 1: | Jiageng | Mi | Jiageng Mi, 0924 | 3h |  |\n",
        "| Member 2: | First Name | Last Name | Signature | Hours | Contribution |\n",
        "| Member 3: | First Name | Last Name | Signature | Hours | Contribution |\n",
        "| Member 4: | Nancy | Wang | Nancy Yi Wang | 3h | 25% |\n"
      ]
    },
    {
      "cell_type": "markdown",
      "id": "f1aa1475-009f-4697-b37a-e46286e2b792",
      "metadata": {
        "id": "f1aa1475-009f-4697-b37a-e46286e2b792"
      },
      "source": [
        "## Part 1: Printing to the Console\n",
        "### (6 Marks)"
      ]
    },
    {
      "cell_type": "code",
      "execution_count": 48,
      "id": "78e4aa0e-2a7d-44cc-9f8b-b3593c1e8176",
      "metadata": {
        "id": "78e4aa0e-2a7d-44cc-9f8b-b3593c1e8176",
        "colab": {
          "base_uri": "https://localhost:8080/"
        },
        "outputId": "9d1ebd56-b853-4e8c-87ce-58f0f8a4c719"
      },
      "outputs": [
        {
          "output_type": "stream",
          "name": "stdout",
          "text": [
            "Hello, World! Welcome to the student Gradebook Management System.\n"
          ]
        }
      ],
      "source": [
        "# In the space below, please print \"Hello, World! Welcome to the Student Gradebook Management System.\"\n",
        "# (1 mark)\n",
        "print('Hello, World! Welcome to the student Gradebook Management System.')"
      ]
    },
    {
      "cell_type": "code",
      "execution_count": 49,
      "id": "l3Venmnzsq2m",
      "metadata": {
        "id": "l3Venmnzsq2m",
        "colab": {
          "base_uri": "https://localhost:8080/"
        },
        "outputId": "93fd1780-630e-406d-8839-1b4646ed6f54"
      },
      "outputs": [
        {
          "output_type": "stream",
          "name": "stdout",
          "text": [
            "This is implemented by Group 13, for ENGG680 Fall of 2024\n"
          ]
        }
      ],
      "source": [
        "# Fill in your information using the defined variables below:\n",
        "# (1 mark)\n",
        "lab_group_number = 13\n",
        "intake_year = 2024\n",
        "intake_semester = \"Fall\" #\"Fall\" or \"Winter\"\n",
        "\n",
        "# Using f-strings and the variables above, print \"This is implemented by Group <lab_group_number>, for ENGG680 <intake_semester> of <intake_year>\"\n",
        "# (2 marks)\n",
        "print (f'This is implemented by Group {lab_group_number}, for ENGG680 {intake_semester} of {intake_year}')"
      ]
    },
    {
      "cell_type": "code",
      "execution_count": 50,
      "id": "mTPZ16XEtnHV",
      "metadata": {
        "id": "mTPZ16XEtnHV",
        "colab": {
          "base_uri": "https://localhost:8080/"
        },
        "outputId": "aff32b1f-6285-4d51-f080-6194cb1e2e9e"
      },
      "outputs": [
        {
          "output_type": "stream",
          "name": "stdout",
          "text": [
            "The subjects involved in this grading system is English and Math.\n"
          ]
        }
      ],
      "source": [
        "# Use indexing to print \"The subjects involved in this grading system is English and Math.\" using \"subjects\" below.\n",
        "# (2 marks)\n",
        "subjects = (\"English\", \"Math\")\n",
        "print(f'The subjects involved in this grading system is {subjects[0]} and {subjects[1]}.')"
      ]
    },
    {
      "cell_type": "markdown",
      "id": "b45a5575-8e77-4bba-8311-69f997affc35",
      "metadata": {
        "id": "b45a5575-8e77-4bba-8311-69f997affc35"
      },
      "source": [
        "## Part 2: Using Pandas for Data Management and Analytics\n",
        "### (20 marks)"
      ]
    },
    {
      "cell_type": "code",
      "execution_count": 51,
      "id": "6dbaa42e-22e3-4aa6-9bd3-dd9ede274c17",
      "metadata": {
        "id": "6dbaa42e-22e3-4aa6-9bd3-dd9ede274c17"
      },
      "outputs": [],
      "source": [
        "# In the space below, please import the Pandas library\n",
        "# (1 mark)\n",
        "import pandas as pd"
      ]
    },
    {
      "cell_type": "code",
      "source": [
        "from google.colab import drive\n",
        "drive.mount('/content/drive')"
      ],
      "metadata": {
        "colab": {
          "base_uri": "https://localhost:8080/"
        },
        "id": "jLDehpW5NJQM",
        "outputId": "d5e46e16-4489-4865-8671-a86af2447773"
      },
      "id": "jLDehpW5NJQM",
      "execution_count": 52,
      "outputs": [
        {
          "output_type": "stream",
          "name": "stdout",
          "text": [
            "Drive already mounted at /content/drive; to attempt to forcibly remount, call drive.mount(\"/content/drive\", force_remount=True).\n"
          ]
        }
      ]
    },
    {
      "cell_type": "code",
      "execution_count": 53,
      "id": "cce8e74f-bba1-4bf4-baaf-13e23cdf4afc",
      "metadata": {
        "id": "cce8e74f-bba1-4bf4-baaf-13e23cdf4afc"
      },
      "outputs": [],
      "source": [
        "# Load the student grade CSV files into DataFrames using the defined variables\n",
        "# (2 marks)\n",
        "df_english = pd.read_csv('/content/drive/MyDrive/engg680_2024_fall/Lab_Assignment1/studentGrades_English.csv')\n",
        "df_math = pd.read_csv('/content/drive/MyDrive/engg680_2024_fall/Lab_Assignment1/studentGrades_Math.csv')"
      ]
    },
    {
      "cell_type": "code",
      "execution_count": 54,
      "id": "8fb240f4-6358-4f61-ab12-f0134c0144a8",
      "metadata": {
        "id": "8fb240f4-6358-4f61-ab12-f0134c0144a8"
      },
      "outputs": [],
      "source": [
        "# Merging the DataFrames on 'studentID'\n",
        "df_studentGrades = pd.merge(df_english, df_math, on='studentID', suffixes=('_English', '_Math'))"
      ]
    },
    {
      "cell_type": "code",
      "execution_count": 55,
      "id": "a9e571ef-d61b-4594-a181-503dca3fe49b",
      "metadata": {
        "id": "a9e571ef-d61b-4594-a181-503dca3fe49b",
        "colab": {
          "base_uri": "https://localhost:8080/"
        },
        "outputId": "cd58bf13-6432-4882-9f79-e196679411c2"
      },
      "outputs": [
        {
          "output_type": "stream",
          "name": "stdout",
          "text": [
            "   firstName_English lastName_English  studentID  grade_English  \\\n",
            "0               Emma            Smith      10959             95   \n",
            "1             Sophia         Robinson      75175             88   \n",
            "2               Emma           Taylor      42257             87   \n",
            "3              David         Robinson      55148             86   \n",
            "4            Stephen            Curry      30303             90   \n",
            "5           Isabella         Thompson      72824             88   \n",
            "6            Jasmine            Smith      70385             84   \n",
            "7              James            Jones      87707             76   \n",
            "8              Sarah            Swift      61026             80   \n",
            "9               Anne            Clark      90449             82   \n",
            "10              Ryan           Thomas      62137             92   \n",
            "11            Daniel            White      25477             91   \n",
            "12              Sara              Doe      47991             98   \n",
            "13           Matthew            White      25376             80   \n",
            "\n",
            "   firstName_Math lastName_Math  grade_Math  \n",
            "0            Emma         Smith          90  \n",
            "1          Sophia      Robinson          95  \n",
            "2            Emma        Taylor          85  \n",
            "3           David      Robinson          87  \n",
            "4         Stephen         Curry          88  \n",
            "5        Isabella      Thompson          79  \n",
            "6         Jasmine         Smith          80  \n",
            "7           James         Jones          92  \n",
            "8           Sarah         Swift          98  \n",
            "9            Anne         Clark          99  \n",
            "10           Ryan        Thomas          89  \n",
            "11         Daniel         White          87  \n",
            "12           Sara           Doe          86  \n",
            "13        Matthew         White          85  \n"
          ]
        }
      ],
      "source": [
        "# Take a look at the data contained in the csv files. Why is studentID chosen as the key?\n",
        "# (1 mark)\n",
        "print(df_studentGrades)\n",
        "# Because studentID is an unique element for every student."
      ]
    },
    {
      "cell_type": "code",
      "execution_count": 56,
      "id": "e23aaa90-fb4c-43f9-a3fc-1ae850bf65ab",
      "metadata": {
        "id": "e23aaa90-fb4c-43f9-a3fc-1ae850bf65ab",
        "colab": {
          "base_uri": "https://localhost:8080/",
          "height": 206
        },
        "outputId": "1b39d49d-0506-42e4-dee0-8cc75636c772"
      },
      "outputs": [
        {
          "output_type": "execute_result",
          "data": {
            "text/plain": [
              "  firstName_English lastName_English  studentID  grade_English firstName_Math  \\\n",
              "0              Emma            Smith      10959             95           Emma   \n",
              "1            Sophia         Robinson      75175             88         Sophia   \n",
              "2              Emma           Taylor      42257             87           Emma   \n",
              "3             David         Robinson      55148             86          David   \n",
              "4           Stephen            Curry      30303             90        Stephen   \n",
              "\n",
              "  lastName_Math  grade_Math   GPA  \n",
              "0         Smith          90  92.5  \n",
              "1      Robinson          95  91.5  \n",
              "2        Taylor          85  86.0  \n",
              "3      Robinson          87  86.5  \n",
              "4         Curry          88  89.0  "
            ],
            "text/html": [
              "\n",
              "  <div id=\"df-2550a0ad-3ec7-46cc-bdfb-ed88a657b6a5\" class=\"colab-df-container\">\n",
              "    <div>\n",
              "<style scoped>\n",
              "    .dataframe tbody tr th:only-of-type {\n",
              "        vertical-align: middle;\n",
              "    }\n",
              "\n",
              "    .dataframe tbody tr th {\n",
              "        vertical-align: top;\n",
              "    }\n",
              "\n",
              "    .dataframe thead th {\n",
              "        text-align: right;\n",
              "    }\n",
              "</style>\n",
              "<table border=\"1\" class=\"dataframe\">\n",
              "  <thead>\n",
              "    <tr style=\"text-align: right;\">\n",
              "      <th></th>\n",
              "      <th>firstName_English</th>\n",
              "      <th>lastName_English</th>\n",
              "      <th>studentID</th>\n",
              "      <th>grade_English</th>\n",
              "      <th>firstName_Math</th>\n",
              "      <th>lastName_Math</th>\n",
              "      <th>grade_Math</th>\n",
              "      <th>GPA</th>\n",
              "    </tr>\n",
              "  </thead>\n",
              "  <tbody>\n",
              "    <tr>\n",
              "      <th>0</th>\n",
              "      <td>Emma</td>\n",
              "      <td>Smith</td>\n",
              "      <td>10959</td>\n",
              "      <td>95</td>\n",
              "      <td>Emma</td>\n",
              "      <td>Smith</td>\n",
              "      <td>90</td>\n",
              "      <td>92.5</td>\n",
              "    </tr>\n",
              "    <tr>\n",
              "      <th>1</th>\n",
              "      <td>Sophia</td>\n",
              "      <td>Robinson</td>\n",
              "      <td>75175</td>\n",
              "      <td>88</td>\n",
              "      <td>Sophia</td>\n",
              "      <td>Robinson</td>\n",
              "      <td>95</td>\n",
              "      <td>91.5</td>\n",
              "    </tr>\n",
              "    <tr>\n",
              "      <th>2</th>\n",
              "      <td>Emma</td>\n",
              "      <td>Taylor</td>\n",
              "      <td>42257</td>\n",
              "      <td>87</td>\n",
              "      <td>Emma</td>\n",
              "      <td>Taylor</td>\n",
              "      <td>85</td>\n",
              "      <td>86.0</td>\n",
              "    </tr>\n",
              "    <tr>\n",
              "      <th>3</th>\n",
              "      <td>David</td>\n",
              "      <td>Robinson</td>\n",
              "      <td>55148</td>\n",
              "      <td>86</td>\n",
              "      <td>David</td>\n",
              "      <td>Robinson</td>\n",
              "      <td>87</td>\n",
              "      <td>86.5</td>\n",
              "    </tr>\n",
              "    <tr>\n",
              "      <th>4</th>\n",
              "      <td>Stephen</td>\n",
              "      <td>Curry</td>\n",
              "      <td>30303</td>\n",
              "      <td>90</td>\n",
              "      <td>Stephen</td>\n",
              "      <td>Curry</td>\n",
              "      <td>88</td>\n",
              "      <td>89.0</td>\n",
              "    </tr>\n",
              "  </tbody>\n",
              "</table>\n",
              "</div>\n",
              "    <div class=\"colab-df-buttons\">\n",
              "\n",
              "  <div class=\"colab-df-container\">\n",
              "    <button class=\"colab-df-convert\" onclick=\"convertToInteractive('df-2550a0ad-3ec7-46cc-bdfb-ed88a657b6a5')\"\n",
              "            title=\"Convert this dataframe to an interactive table.\"\n",
              "            style=\"display:none;\">\n",
              "\n",
              "  <svg xmlns=\"http://www.w3.org/2000/svg\" height=\"24px\" viewBox=\"0 -960 960 960\">\n",
              "    <path d=\"M120-120v-720h720v720H120Zm60-500h600v-160H180v160Zm220 220h160v-160H400v160Zm0 220h160v-160H400v160ZM180-400h160v-160H180v160Zm440 0h160v-160H620v160ZM180-180h160v-160H180v160Zm440 0h160v-160H620v160Z\"/>\n",
              "  </svg>\n",
              "    </button>\n",
              "\n",
              "  <style>\n",
              "    .colab-df-container {\n",
              "      display:flex;\n",
              "      gap: 12px;\n",
              "    }\n",
              "\n",
              "    .colab-df-convert {\n",
              "      background-color: #E8F0FE;\n",
              "      border: none;\n",
              "      border-radius: 50%;\n",
              "      cursor: pointer;\n",
              "      display: none;\n",
              "      fill: #1967D2;\n",
              "      height: 32px;\n",
              "      padding: 0 0 0 0;\n",
              "      width: 32px;\n",
              "    }\n",
              "\n",
              "    .colab-df-convert:hover {\n",
              "      background-color: #E2EBFA;\n",
              "      box-shadow: 0px 1px 2px rgba(60, 64, 67, 0.3), 0px 1px 3px 1px rgba(60, 64, 67, 0.15);\n",
              "      fill: #174EA6;\n",
              "    }\n",
              "\n",
              "    .colab-df-buttons div {\n",
              "      margin-bottom: 4px;\n",
              "    }\n",
              "\n",
              "    [theme=dark] .colab-df-convert {\n",
              "      background-color: #3B4455;\n",
              "      fill: #D2E3FC;\n",
              "    }\n",
              "\n",
              "    [theme=dark] .colab-df-convert:hover {\n",
              "      background-color: #434B5C;\n",
              "      box-shadow: 0px 1px 3px 1px rgba(0, 0, 0, 0.15);\n",
              "      filter: drop-shadow(0px 1px 2px rgba(0, 0, 0, 0.3));\n",
              "      fill: #FFFFFF;\n",
              "    }\n",
              "  </style>\n",
              "\n",
              "    <script>\n",
              "      const buttonEl =\n",
              "        document.querySelector('#df-2550a0ad-3ec7-46cc-bdfb-ed88a657b6a5 button.colab-df-convert');\n",
              "      buttonEl.style.display =\n",
              "        google.colab.kernel.accessAllowed ? 'block' : 'none';\n",
              "\n",
              "      async function convertToInteractive(key) {\n",
              "        const element = document.querySelector('#df-2550a0ad-3ec7-46cc-bdfb-ed88a657b6a5');\n",
              "        const dataTable =\n",
              "          await google.colab.kernel.invokeFunction('convertToInteractive',\n",
              "                                                    [key], {});\n",
              "        if (!dataTable) return;\n",
              "\n",
              "        const docLinkHtml = 'Like what you see? Visit the ' +\n",
              "          '<a target=\"_blank\" href=https://colab.research.google.com/notebooks/data_table.ipynb>data table notebook</a>'\n",
              "          + ' to learn more about interactive tables.';\n",
              "        element.innerHTML = '';\n",
              "        dataTable['output_type'] = 'display_data';\n",
              "        await google.colab.output.renderOutput(dataTable, element);\n",
              "        const docLink = document.createElement('div');\n",
              "        docLink.innerHTML = docLinkHtml;\n",
              "        element.appendChild(docLink);\n",
              "      }\n",
              "    </script>\n",
              "  </div>\n",
              "\n",
              "\n",
              "<div id=\"df-c45f09f0-68fb-476c-9e43-6ae6a5f304cd\">\n",
              "  <button class=\"colab-df-quickchart\" onclick=\"quickchart('df-c45f09f0-68fb-476c-9e43-6ae6a5f304cd')\"\n",
              "            title=\"Suggest charts\"\n",
              "            style=\"display:none;\">\n",
              "\n",
              "<svg xmlns=\"http://www.w3.org/2000/svg\" height=\"24px\"viewBox=\"0 0 24 24\"\n",
              "     width=\"24px\">\n",
              "    <g>\n",
              "        <path d=\"M19 3H5c-1.1 0-2 .9-2 2v14c0 1.1.9 2 2 2h14c1.1 0 2-.9 2-2V5c0-1.1-.9-2-2-2zM9 17H7v-7h2v7zm4 0h-2V7h2v10zm4 0h-2v-4h2v4z\"/>\n",
              "    </g>\n",
              "</svg>\n",
              "  </button>\n",
              "\n",
              "<style>\n",
              "  .colab-df-quickchart {\n",
              "      --bg-color: #E8F0FE;\n",
              "      --fill-color: #1967D2;\n",
              "      --hover-bg-color: #E2EBFA;\n",
              "      --hover-fill-color: #174EA6;\n",
              "      --disabled-fill-color: #AAA;\n",
              "      --disabled-bg-color: #DDD;\n",
              "  }\n",
              "\n",
              "  [theme=dark] .colab-df-quickchart {\n",
              "      --bg-color: #3B4455;\n",
              "      --fill-color: #D2E3FC;\n",
              "      --hover-bg-color: #434B5C;\n",
              "      --hover-fill-color: #FFFFFF;\n",
              "      --disabled-bg-color: #3B4455;\n",
              "      --disabled-fill-color: #666;\n",
              "  }\n",
              "\n",
              "  .colab-df-quickchart {\n",
              "    background-color: var(--bg-color);\n",
              "    border: none;\n",
              "    border-radius: 50%;\n",
              "    cursor: pointer;\n",
              "    display: none;\n",
              "    fill: var(--fill-color);\n",
              "    height: 32px;\n",
              "    padding: 0;\n",
              "    width: 32px;\n",
              "  }\n",
              "\n",
              "  .colab-df-quickchart:hover {\n",
              "    background-color: var(--hover-bg-color);\n",
              "    box-shadow: 0 1px 2px rgba(60, 64, 67, 0.3), 0 1px 3px 1px rgba(60, 64, 67, 0.15);\n",
              "    fill: var(--button-hover-fill-color);\n",
              "  }\n",
              "\n",
              "  .colab-df-quickchart-complete:disabled,\n",
              "  .colab-df-quickchart-complete:disabled:hover {\n",
              "    background-color: var(--disabled-bg-color);\n",
              "    fill: var(--disabled-fill-color);\n",
              "    box-shadow: none;\n",
              "  }\n",
              "\n",
              "  .colab-df-spinner {\n",
              "    border: 2px solid var(--fill-color);\n",
              "    border-color: transparent;\n",
              "    border-bottom-color: var(--fill-color);\n",
              "    animation:\n",
              "      spin 1s steps(1) infinite;\n",
              "  }\n",
              "\n",
              "  @keyframes spin {\n",
              "    0% {\n",
              "      border-color: transparent;\n",
              "      border-bottom-color: var(--fill-color);\n",
              "      border-left-color: var(--fill-color);\n",
              "    }\n",
              "    20% {\n",
              "      border-color: transparent;\n",
              "      border-left-color: var(--fill-color);\n",
              "      border-top-color: var(--fill-color);\n",
              "    }\n",
              "    30% {\n",
              "      border-color: transparent;\n",
              "      border-left-color: var(--fill-color);\n",
              "      border-top-color: var(--fill-color);\n",
              "      border-right-color: var(--fill-color);\n",
              "    }\n",
              "    40% {\n",
              "      border-color: transparent;\n",
              "      border-right-color: var(--fill-color);\n",
              "      border-top-color: var(--fill-color);\n",
              "    }\n",
              "    60% {\n",
              "      border-color: transparent;\n",
              "      border-right-color: var(--fill-color);\n",
              "    }\n",
              "    80% {\n",
              "      border-color: transparent;\n",
              "      border-right-color: var(--fill-color);\n",
              "      border-bottom-color: var(--fill-color);\n",
              "    }\n",
              "    90% {\n",
              "      border-color: transparent;\n",
              "      border-bottom-color: var(--fill-color);\n",
              "    }\n",
              "  }\n",
              "</style>\n",
              "\n",
              "  <script>\n",
              "    async function quickchart(key) {\n",
              "      const quickchartButtonEl =\n",
              "        document.querySelector('#' + key + ' button');\n",
              "      quickchartButtonEl.disabled = true;  // To prevent multiple clicks.\n",
              "      quickchartButtonEl.classList.add('colab-df-spinner');\n",
              "      try {\n",
              "        const charts = await google.colab.kernel.invokeFunction(\n",
              "            'suggestCharts', [key], {});\n",
              "      } catch (error) {\n",
              "        console.error('Error during call to suggestCharts:', error);\n",
              "      }\n",
              "      quickchartButtonEl.classList.remove('colab-df-spinner');\n",
              "      quickchartButtonEl.classList.add('colab-df-quickchart-complete');\n",
              "    }\n",
              "    (() => {\n",
              "      let quickchartButtonEl =\n",
              "        document.querySelector('#df-c45f09f0-68fb-476c-9e43-6ae6a5f304cd button');\n",
              "      quickchartButtonEl.style.display =\n",
              "        google.colab.kernel.accessAllowed ? 'block' : 'none';\n",
              "    })();\n",
              "  </script>\n",
              "</div>\n",
              "\n",
              "    </div>\n",
              "  </div>\n"
            ],
            "application/vnd.google.colaboratory.intrinsic+json": {
              "type": "dataframe",
              "variable_name": "df_studentGrades",
              "summary": "{\n  \"name\": \"df_studentGrades\",\n  \"rows\": 14,\n  \"fields\": [\n    {\n      \"column\": \"firstName_English\",\n      \"properties\": {\n        \"dtype\": \"string\",\n        \"num_unique_values\": 13,\n        \"samples\": [\n          \"Sara\",\n          \"Ryan\",\n          \"Emma\"\n        ],\n        \"semantic_type\": \"\",\n        \"description\": \"\"\n      }\n    },\n    {\n      \"column\": \"lastName_English\",\n      \"properties\": {\n        \"dtype\": \"string\",\n        \"num_unique_values\": 11,\n        \"samples\": [\n          \"Jones\",\n          \"Smith\",\n          \"White\"\n        ],\n        \"semantic_type\": \"\",\n        \"description\": \"\"\n      }\n    },\n    {\n      \"column\": \"studentID\",\n      \"properties\": {\n        \"dtype\": \"number\",\n        \"std\": 24610,\n        \"min\": 10959,\n        \"max\": 90449,\n        \"num_unique_values\": 14,\n        \"samples\": [\n          90449,\n          25477,\n          10959\n        ],\n        \"semantic_type\": \"\",\n        \"description\": \"\"\n      }\n    },\n    {\n      \"column\": \"grade_English\",\n      \"properties\": {\n        \"dtype\": \"number\",\n        \"std\": 6,\n        \"min\": 76,\n        \"max\": 98,\n        \"num_unique_values\": 12,\n        \"samples\": [\n          91,\n          92,\n          95\n        ],\n        \"semantic_type\": \"\",\n        \"description\": \"\"\n      }\n    },\n    {\n      \"column\": \"firstName_Math\",\n      \"properties\": {\n        \"dtype\": \"string\",\n        \"num_unique_values\": 13,\n        \"samples\": [\n          \"Sara\",\n          \"Ryan\",\n          \"Emma\"\n        ],\n        \"semantic_type\": \"\",\n        \"description\": \"\"\n      }\n    },\n    {\n      \"column\": \"lastName_Math\",\n      \"properties\": {\n        \"dtype\": \"string\",\n        \"num_unique_values\": 11,\n        \"samples\": [\n          \"Jones\",\n          \"Smith\",\n          \"White\"\n        ],\n        \"semantic_type\": \"\",\n        \"description\": \"\"\n      }\n    },\n    {\n      \"column\": \"grade_Math\",\n      \"properties\": {\n        \"dtype\": \"number\",\n        \"std\": 5,\n        \"min\": 79,\n        \"max\": 99,\n        \"num_unique_values\": 12,\n        \"samples\": [\n          89,\n          99,\n          90\n        ],\n        \"semantic_type\": \"\",\n        \"description\": \"\"\n      }\n    },\n    {\n      \"column\": \"GPA\",\n      \"properties\": {\n        \"dtype\": \"number\",\n        \"std\": 3.6360904617671226,\n        \"min\": 82.0,\n        \"max\": 92.5,\n        \"num_unique_values\": 11,\n        \"samples\": [\n          83.5,\n          92.5,\n          92.0\n        ],\n        \"semantic_type\": \"\",\n        \"description\": \"\"\n      }\n    }\n  ]\n}"
            }
          },
          "metadata": {},
          "execution_count": 56
        }
      ],
      "source": [
        "# Let's calculate the average GPA across the two classes for each student\n",
        "df_studentGrades['GPA'] = df_studentGrades[['grade_English', 'grade_Math']].mean(axis=1)\n",
        "\n",
        "# Now let's check the data! In the space below, please use the .head method to display the dataframe.\n",
        "# (1 mark)\n",
        "df_studentGrades.head()"
      ]
    },
    {
      "cell_type": "code",
      "execution_count": 57,
      "id": "9f28f907-7e7d-4be4-87b8-db03fef69dfa",
      "metadata": {
        "id": "9f28f907-7e7d-4be4-87b8-db03fef69dfa"
      },
      "outputs": [],
      "source": [
        "# Do you notice a problem? The rows for first name and last name have been duplicated!\n",
        "# .drop(columns=['<column_name1>','<column_name2>'] is a Pandas method that can be used to drop columns.\n",
        "# In the space below, drop the first name and last name associated with the math .csv file.\n",
        "# (2 mark)\n",
        "df_studentGrades = df_studentGrades.drop(columns=['firstName_Math','lastName_Math'])"
      ]
    },
    {
      "cell_type": "code",
      "execution_count": 58,
      "id": "b58186b4-b60e-455a-990e-b24169964f98",
      "metadata": {
        "id": "b58186b4-b60e-455a-990e-b24169964f98",
        "colab": {
          "base_uri": "https://localhost:8080/",
          "height": 206
        },
        "outputId": "6dc26ccb-c437-488d-b9a3-94600acdccb3"
      },
      "outputs": [
        {
          "output_type": "execute_result",
          "data": {
            "text/plain": [
              "  firstName_English lastName_English  studentID  grade_English  grade_Math  \\\n",
              "0              Emma            Smith      10959             95          90   \n",
              "1            Sophia         Robinson      75175             88          95   \n",
              "2              Emma           Taylor      42257             87          85   \n",
              "3             David         Robinson      55148             86          87   \n",
              "4           Stephen            Curry      30303             90          88   \n",
              "\n",
              "    GPA  \n",
              "0  92.5  \n",
              "1  91.5  \n",
              "2  86.0  \n",
              "3  86.5  \n",
              "4  89.0  "
            ],
            "text/html": [
              "\n",
              "  <div id=\"df-956b88e5-0814-4a40-9718-3c176b6de34f\" class=\"colab-df-container\">\n",
              "    <div>\n",
              "<style scoped>\n",
              "    .dataframe tbody tr th:only-of-type {\n",
              "        vertical-align: middle;\n",
              "    }\n",
              "\n",
              "    .dataframe tbody tr th {\n",
              "        vertical-align: top;\n",
              "    }\n",
              "\n",
              "    .dataframe thead th {\n",
              "        text-align: right;\n",
              "    }\n",
              "</style>\n",
              "<table border=\"1\" class=\"dataframe\">\n",
              "  <thead>\n",
              "    <tr style=\"text-align: right;\">\n",
              "      <th></th>\n",
              "      <th>firstName_English</th>\n",
              "      <th>lastName_English</th>\n",
              "      <th>studentID</th>\n",
              "      <th>grade_English</th>\n",
              "      <th>grade_Math</th>\n",
              "      <th>GPA</th>\n",
              "    </tr>\n",
              "  </thead>\n",
              "  <tbody>\n",
              "    <tr>\n",
              "      <th>0</th>\n",
              "      <td>Emma</td>\n",
              "      <td>Smith</td>\n",
              "      <td>10959</td>\n",
              "      <td>95</td>\n",
              "      <td>90</td>\n",
              "      <td>92.5</td>\n",
              "    </tr>\n",
              "    <tr>\n",
              "      <th>1</th>\n",
              "      <td>Sophia</td>\n",
              "      <td>Robinson</td>\n",
              "      <td>75175</td>\n",
              "      <td>88</td>\n",
              "      <td>95</td>\n",
              "      <td>91.5</td>\n",
              "    </tr>\n",
              "    <tr>\n",
              "      <th>2</th>\n",
              "      <td>Emma</td>\n",
              "      <td>Taylor</td>\n",
              "      <td>42257</td>\n",
              "      <td>87</td>\n",
              "      <td>85</td>\n",
              "      <td>86.0</td>\n",
              "    </tr>\n",
              "    <tr>\n",
              "      <th>3</th>\n",
              "      <td>David</td>\n",
              "      <td>Robinson</td>\n",
              "      <td>55148</td>\n",
              "      <td>86</td>\n",
              "      <td>87</td>\n",
              "      <td>86.5</td>\n",
              "    </tr>\n",
              "    <tr>\n",
              "      <th>4</th>\n",
              "      <td>Stephen</td>\n",
              "      <td>Curry</td>\n",
              "      <td>30303</td>\n",
              "      <td>90</td>\n",
              "      <td>88</td>\n",
              "      <td>89.0</td>\n",
              "    </tr>\n",
              "  </tbody>\n",
              "</table>\n",
              "</div>\n",
              "    <div class=\"colab-df-buttons\">\n",
              "\n",
              "  <div class=\"colab-df-container\">\n",
              "    <button class=\"colab-df-convert\" onclick=\"convertToInteractive('df-956b88e5-0814-4a40-9718-3c176b6de34f')\"\n",
              "            title=\"Convert this dataframe to an interactive table.\"\n",
              "            style=\"display:none;\">\n",
              "\n",
              "  <svg xmlns=\"http://www.w3.org/2000/svg\" height=\"24px\" viewBox=\"0 -960 960 960\">\n",
              "    <path d=\"M120-120v-720h720v720H120Zm60-500h600v-160H180v160Zm220 220h160v-160H400v160Zm0 220h160v-160H400v160ZM180-400h160v-160H180v160Zm440 0h160v-160H620v160ZM180-180h160v-160H180v160Zm440 0h160v-160H620v160Z\"/>\n",
              "  </svg>\n",
              "    </button>\n",
              "\n",
              "  <style>\n",
              "    .colab-df-container {\n",
              "      display:flex;\n",
              "      gap: 12px;\n",
              "    }\n",
              "\n",
              "    .colab-df-convert {\n",
              "      background-color: #E8F0FE;\n",
              "      border: none;\n",
              "      border-radius: 50%;\n",
              "      cursor: pointer;\n",
              "      display: none;\n",
              "      fill: #1967D2;\n",
              "      height: 32px;\n",
              "      padding: 0 0 0 0;\n",
              "      width: 32px;\n",
              "    }\n",
              "\n",
              "    .colab-df-convert:hover {\n",
              "      background-color: #E2EBFA;\n",
              "      box-shadow: 0px 1px 2px rgba(60, 64, 67, 0.3), 0px 1px 3px 1px rgba(60, 64, 67, 0.15);\n",
              "      fill: #174EA6;\n",
              "    }\n",
              "\n",
              "    .colab-df-buttons div {\n",
              "      margin-bottom: 4px;\n",
              "    }\n",
              "\n",
              "    [theme=dark] .colab-df-convert {\n",
              "      background-color: #3B4455;\n",
              "      fill: #D2E3FC;\n",
              "    }\n",
              "\n",
              "    [theme=dark] .colab-df-convert:hover {\n",
              "      background-color: #434B5C;\n",
              "      box-shadow: 0px 1px 3px 1px rgba(0, 0, 0, 0.15);\n",
              "      filter: drop-shadow(0px 1px 2px rgba(0, 0, 0, 0.3));\n",
              "      fill: #FFFFFF;\n",
              "    }\n",
              "  </style>\n",
              "\n",
              "    <script>\n",
              "      const buttonEl =\n",
              "        document.querySelector('#df-956b88e5-0814-4a40-9718-3c176b6de34f button.colab-df-convert');\n",
              "      buttonEl.style.display =\n",
              "        google.colab.kernel.accessAllowed ? 'block' : 'none';\n",
              "\n",
              "      async function convertToInteractive(key) {\n",
              "        const element = document.querySelector('#df-956b88e5-0814-4a40-9718-3c176b6de34f');\n",
              "        const dataTable =\n",
              "          await google.colab.kernel.invokeFunction('convertToInteractive',\n",
              "                                                    [key], {});\n",
              "        if (!dataTable) return;\n",
              "\n",
              "        const docLinkHtml = 'Like what you see? Visit the ' +\n",
              "          '<a target=\"_blank\" href=https://colab.research.google.com/notebooks/data_table.ipynb>data table notebook</a>'\n",
              "          + ' to learn more about interactive tables.';\n",
              "        element.innerHTML = '';\n",
              "        dataTable['output_type'] = 'display_data';\n",
              "        await google.colab.output.renderOutput(dataTable, element);\n",
              "        const docLink = document.createElement('div');\n",
              "        docLink.innerHTML = docLinkHtml;\n",
              "        element.appendChild(docLink);\n",
              "      }\n",
              "    </script>\n",
              "  </div>\n",
              "\n",
              "\n",
              "<div id=\"df-0384799d-4fe3-4530-9ac7-3541bdf3b476\">\n",
              "  <button class=\"colab-df-quickchart\" onclick=\"quickchart('df-0384799d-4fe3-4530-9ac7-3541bdf3b476')\"\n",
              "            title=\"Suggest charts\"\n",
              "            style=\"display:none;\">\n",
              "\n",
              "<svg xmlns=\"http://www.w3.org/2000/svg\" height=\"24px\"viewBox=\"0 0 24 24\"\n",
              "     width=\"24px\">\n",
              "    <g>\n",
              "        <path d=\"M19 3H5c-1.1 0-2 .9-2 2v14c0 1.1.9 2 2 2h14c1.1 0 2-.9 2-2V5c0-1.1-.9-2-2-2zM9 17H7v-7h2v7zm4 0h-2V7h2v10zm4 0h-2v-4h2v4z\"/>\n",
              "    </g>\n",
              "</svg>\n",
              "  </button>\n",
              "\n",
              "<style>\n",
              "  .colab-df-quickchart {\n",
              "      --bg-color: #E8F0FE;\n",
              "      --fill-color: #1967D2;\n",
              "      --hover-bg-color: #E2EBFA;\n",
              "      --hover-fill-color: #174EA6;\n",
              "      --disabled-fill-color: #AAA;\n",
              "      --disabled-bg-color: #DDD;\n",
              "  }\n",
              "\n",
              "  [theme=dark] .colab-df-quickchart {\n",
              "      --bg-color: #3B4455;\n",
              "      --fill-color: #D2E3FC;\n",
              "      --hover-bg-color: #434B5C;\n",
              "      --hover-fill-color: #FFFFFF;\n",
              "      --disabled-bg-color: #3B4455;\n",
              "      --disabled-fill-color: #666;\n",
              "  }\n",
              "\n",
              "  .colab-df-quickchart {\n",
              "    background-color: var(--bg-color);\n",
              "    border: none;\n",
              "    border-radius: 50%;\n",
              "    cursor: pointer;\n",
              "    display: none;\n",
              "    fill: var(--fill-color);\n",
              "    height: 32px;\n",
              "    padding: 0;\n",
              "    width: 32px;\n",
              "  }\n",
              "\n",
              "  .colab-df-quickchart:hover {\n",
              "    background-color: var(--hover-bg-color);\n",
              "    box-shadow: 0 1px 2px rgba(60, 64, 67, 0.3), 0 1px 3px 1px rgba(60, 64, 67, 0.15);\n",
              "    fill: var(--button-hover-fill-color);\n",
              "  }\n",
              "\n",
              "  .colab-df-quickchart-complete:disabled,\n",
              "  .colab-df-quickchart-complete:disabled:hover {\n",
              "    background-color: var(--disabled-bg-color);\n",
              "    fill: var(--disabled-fill-color);\n",
              "    box-shadow: none;\n",
              "  }\n",
              "\n",
              "  .colab-df-spinner {\n",
              "    border: 2px solid var(--fill-color);\n",
              "    border-color: transparent;\n",
              "    border-bottom-color: var(--fill-color);\n",
              "    animation:\n",
              "      spin 1s steps(1) infinite;\n",
              "  }\n",
              "\n",
              "  @keyframes spin {\n",
              "    0% {\n",
              "      border-color: transparent;\n",
              "      border-bottom-color: var(--fill-color);\n",
              "      border-left-color: var(--fill-color);\n",
              "    }\n",
              "    20% {\n",
              "      border-color: transparent;\n",
              "      border-left-color: var(--fill-color);\n",
              "      border-top-color: var(--fill-color);\n",
              "    }\n",
              "    30% {\n",
              "      border-color: transparent;\n",
              "      border-left-color: var(--fill-color);\n",
              "      border-top-color: var(--fill-color);\n",
              "      border-right-color: var(--fill-color);\n",
              "    }\n",
              "    40% {\n",
              "      border-color: transparent;\n",
              "      border-right-color: var(--fill-color);\n",
              "      border-top-color: var(--fill-color);\n",
              "    }\n",
              "    60% {\n",
              "      border-color: transparent;\n",
              "      border-right-color: var(--fill-color);\n",
              "    }\n",
              "    80% {\n",
              "      border-color: transparent;\n",
              "      border-right-color: var(--fill-color);\n",
              "      border-bottom-color: var(--fill-color);\n",
              "    }\n",
              "    90% {\n",
              "      border-color: transparent;\n",
              "      border-bottom-color: var(--fill-color);\n",
              "    }\n",
              "  }\n",
              "</style>\n",
              "\n",
              "  <script>\n",
              "    async function quickchart(key) {\n",
              "      const quickchartButtonEl =\n",
              "        document.querySelector('#' + key + ' button');\n",
              "      quickchartButtonEl.disabled = true;  // To prevent multiple clicks.\n",
              "      quickchartButtonEl.classList.add('colab-df-spinner');\n",
              "      try {\n",
              "        const charts = await google.colab.kernel.invokeFunction(\n",
              "            'suggestCharts', [key], {});\n",
              "      } catch (error) {\n",
              "        console.error('Error during call to suggestCharts:', error);\n",
              "      }\n",
              "      quickchartButtonEl.classList.remove('colab-df-spinner');\n",
              "      quickchartButtonEl.classList.add('colab-df-quickchart-complete');\n",
              "    }\n",
              "    (() => {\n",
              "      let quickchartButtonEl =\n",
              "        document.querySelector('#df-0384799d-4fe3-4530-9ac7-3541bdf3b476 button');\n",
              "      quickchartButtonEl.style.display =\n",
              "        google.colab.kernel.accessAllowed ? 'block' : 'none';\n",
              "    })();\n",
              "  </script>\n",
              "</div>\n",
              "\n",
              "    </div>\n",
              "  </div>\n"
            ],
            "application/vnd.google.colaboratory.intrinsic+json": {
              "type": "dataframe",
              "variable_name": "df_studentGrades",
              "summary": "{\n  \"name\": \"df_studentGrades\",\n  \"rows\": 14,\n  \"fields\": [\n    {\n      \"column\": \"firstName_English\",\n      \"properties\": {\n        \"dtype\": \"string\",\n        \"num_unique_values\": 13,\n        \"samples\": [\n          \"Sara\",\n          \"Ryan\",\n          \"Emma\"\n        ],\n        \"semantic_type\": \"\",\n        \"description\": \"\"\n      }\n    },\n    {\n      \"column\": \"lastName_English\",\n      \"properties\": {\n        \"dtype\": \"string\",\n        \"num_unique_values\": 11,\n        \"samples\": [\n          \"Jones\",\n          \"Smith\",\n          \"White\"\n        ],\n        \"semantic_type\": \"\",\n        \"description\": \"\"\n      }\n    },\n    {\n      \"column\": \"studentID\",\n      \"properties\": {\n        \"dtype\": \"number\",\n        \"std\": 24610,\n        \"min\": 10959,\n        \"max\": 90449,\n        \"num_unique_values\": 14,\n        \"samples\": [\n          90449,\n          25477,\n          10959\n        ],\n        \"semantic_type\": \"\",\n        \"description\": \"\"\n      }\n    },\n    {\n      \"column\": \"grade_English\",\n      \"properties\": {\n        \"dtype\": \"number\",\n        \"std\": 6,\n        \"min\": 76,\n        \"max\": 98,\n        \"num_unique_values\": 12,\n        \"samples\": [\n          91,\n          92,\n          95\n        ],\n        \"semantic_type\": \"\",\n        \"description\": \"\"\n      }\n    },\n    {\n      \"column\": \"grade_Math\",\n      \"properties\": {\n        \"dtype\": \"number\",\n        \"std\": 5,\n        \"min\": 79,\n        \"max\": 99,\n        \"num_unique_values\": 12,\n        \"samples\": [\n          89,\n          99,\n          90\n        ],\n        \"semantic_type\": \"\",\n        \"description\": \"\"\n      }\n    },\n    {\n      \"column\": \"GPA\",\n      \"properties\": {\n        \"dtype\": \"number\",\n        \"std\": 3.6360904617671226,\n        \"min\": 82.0,\n        \"max\": 92.5,\n        \"num_unique_values\": 11,\n        \"samples\": [\n          83.5,\n          92.5,\n          92.0\n        ],\n        \"semantic_type\": \"\",\n        \"description\": \"\"\n      }\n    }\n  ]\n}"
            }
          },
          "metadata": {},
          "execution_count": 58
        }
      ],
      "source": [
        "# Let's display the data again. Use an appropriate method (hint: already used before)\n",
        "# (1 mark)\n",
        "df_studentGrades.head()"
      ]
    },
    {
      "cell_type": "code",
      "execution_count": 59,
      "id": "f0476460-6156-49ee-bc84-0878207e2dfa",
      "metadata": {
        "id": "f0476460-6156-49ee-bc84-0878207e2dfa",
        "colab": {
          "base_uri": "https://localhost:8080/"
        },
        "outputId": "74436e79-e4e2-4df6-ed09-038ed7476e18"
      },
      "outputs": [
        {
          "output_type": "stream",
          "name": "stdout",
          "text": [
            "   firstName  lastName  studentID  englishGrade  mathGrade   GPA\n",
            "0       Emma     Smith      10959            95         90  92.5\n",
            "1     Sophia  Robinson      75175            88         95  91.5\n",
            "2       Emma    Taylor      42257            87         85  86.0\n",
            "3      David  Robinson      55148            86         87  86.5\n",
            "4    Stephen     Curry      30303            90         88  89.0\n",
            "5   Isabella  Thompson      72824            88         79  83.5\n",
            "6    Jasmine     Smith      70385            84         80  82.0\n",
            "7      James     Jones      87707            76         92  84.0\n",
            "8      Sarah     Swift      61026            80         98  89.0\n",
            "9       Anne     Clark      90449            82         99  90.5\n",
            "10      Ryan    Thomas      62137            92         89  90.5\n",
            "11    Daniel     White      25477            91         87  89.0\n",
            "12      Sara       Doe      47991            98         86  92.0\n",
            "13   Matthew     White      25376            80         85  82.5\n"
          ]
        }
      ],
      "source": [
        "# Let's also rename the first and last names appropriately.\n",
        "# Complete the code in the space below by replacing \"<>\" with the proper column name\n",
        "# (1 mark)\n",
        "\n",
        "df_studentGrades = df_studentGrades.rename(columns={\n",
        "    'firstName_English': 'firstName',\n",
        "    'lastName_English': 'lastName',\n",
        "    'grade_English': 'englishGrade',\n",
        "    'grade_Math': 'mathGrade'\n",
        "    })\n",
        "print(df_studentGrades)"
      ]
    },
    {
      "cell_type": "code",
      "execution_count": 60,
      "id": "5c2b26e6-3c03-4950-b56d-5d00cf9361c4",
      "metadata": {
        "id": "5c2b26e6-3c03-4950-b56d-5d00cf9361c4",
        "colab": {
          "base_uri": "https://localhost:8080/",
          "height": 300
        },
        "outputId": "e959db68-d5f8-4f65-8062-c4081f81462d"
      },
      "outputs": [
        {
          "output_type": "execute_result",
          "data": {
            "text/plain": [
              "          studentID  englishGrade  mathGrade       GPA\n",
              "count     14.000000     14.000000  14.000000  14.00000\n",
              "mean   54086.714286     86.928571  88.571429  87.75000\n",
              "std    24610.266586      6.145221   5.918865   3.63609\n",
              "min    10959.000000     76.000000  79.000000  82.00000\n",
              "25%    33291.500000     82.500000  85.250000  84.50000\n",
              "50%    58087.000000     87.500000  87.500000  89.00000\n",
              "75%    72214.250000     90.750000  91.500000  90.50000\n",
              "max    90449.000000     98.000000  99.000000  92.50000"
            ],
            "text/html": [
              "\n",
              "  <div id=\"df-119a805e-03a2-40eb-8a84-2a7414157adb\" class=\"colab-df-container\">\n",
              "    <div>\n",
              "<style scoped>\n",
              "    .dataframe tbody tr th:only-of-type {\n",
              "        vertical-align: middle;\n",
              "    }\n",
              "\n",
              "    .dataframe tbody tr th {\n",
              "        vertical-align: top;\n",
              "    }\n",
              "\n",
              "    .dataframe thead th {\n",
              "        text-align: right;\n",
              "    }\n",
              "</style>\n",
              "<table border=\"1\" class=\"dataframe\">\n",
              "  <thead>\n",
              "    <tr style=\"text-align: right;\">\n",
              "      <th></th>\n",
              "      <th>studentID</th>\n",
              "      <th>englishGrade</th>\n",
              "      <th>mathGrade</th>\n",
              "      <th>GPA</th>\n",
              "    </tr>\n",
              "  </thead>\n",
              "  <tbody>\n",
              "    <tr>\n",
              "      <th>count</th>\n",
              "      <td>14.000000</td>\n",
              "      <td>14.000000</td>\n",
              "      <td>14.000000</td>\n",
              "      <td>14.00000</td>\n",
              "    </tr>\n",
              "    <tr>\n",
              "      <th>mean</th>\n",
              "      <td>54086.714286</td>\n",
              "      <td>86.928571</td>\n",
              "      <td>88.571429</td>\n",
              "      <td>87.75000</td>\n",
              "    </tr>\n",
              "    <tr>\n",
              "      <th>std</th>\n",
              "      <td>24610.266586</td>\n",
              "      <td>6.145221</td>\n",
              "      <td>5.918865</td>\n",
              "      <td>3.63609</td>\n",
              "    </tr>\n",
              "    <tr>\n",
              "      <th>min</th>\n",
              "      <td>10959.000000</td>\n",
              "      <td>76.000000</td>\n",
              "      <td>79.000000</td>\n",
              "      <td>82.00000</td>\n",
              "    </tr>\n",
              "    <tr>\n",
              "      <th>25%</th>\n",
              "      <td>33291.500000</td>\n",
              "      <td>82.500000</td>\n",
              "      <td>85.250000</td>\n",
              "      <td>84.50000</td>\n",
              "    </tr>\n",
              "    <tr>\n",
              "      <th>50%</th>\n",
              "      <td>58087.000000</td>\n",
              "      <td>87.500000</td>\n",
              "      <td>87.500000</td>\n",
              "      <td>89.00000</td>\n",
              "    </tr>\n",
              "    <tr>\n",
              "      <th>75%</th>\n",
              "      <td>72214.250000</td>\n",
              "      <td>90.750000</td>\n",
              "      <td>91.500000</td>\n",
              "      <td>90.50000</td>\n",
              "    </tr>\n",
              "    <tr>\n",
              "      <th>max</th>\n",
              "      <td>90449.000000</td>\n",
              "      <td>98.000000</td>\n",
              "      <td>99.000000</td>\n",
              "      <td>92.50000</td>\n",
              "    </tr>\n",
              "  </tbody>\n",
              "</table>\n",
              "</div>\n",
              "    <div class=\"colab-df-buttons\">\n",
              "\n",
              "  <div class=\"colab-df-container\">\n",
              "    <button class=\"colab-df-convert\" onclick=\"convertToInteractive('df-119a805e-03a2-40eb-8a84-2a7414157adb')\"\n",
              "            title=\"Convert this dataframe to an interactive table.\"\n",
              "            style=\"display:none;\">\n",
              "\n",
              "  <svg xmlns=\"http://www.w3.org/2000/svg\" height=\"24px\" viewBox=\"0 -960 960 960\">\n",
              "    <path d=\"M120-120v-720h720v720H120Zm60-500h600v-160H180v160Zm220 220h160v-160H400v160Zm0 220h160v-160H400v160ZM180-400h160v-160H180v160Zm440 0h160v-160H620v160ZM180-180h160v-160H180v160Zm440 0h160v-160H620v160Z\"/>\n",
              "  </svg>\n",
              "    </button>\n",
              "\n",
              "  <style>\n",
              "    .colab-df-container {\n",
              "      display:flex;\n",
              "      gap: 12px;\n",
              "    }\n",
              "\n",
              "    .colab-df-convert {\n",
              "      background-color: #E8F0FE;\n",
              "      border: none;\n",
              "      border-radius: 50%;\n",
              "      cursor: pointer;\n",
              "      display: none;\n",
              "      fill: #1967D2;\n",
              "      height: 32px;\n",
              "      padding: 0 0 0 0;\n",
              "      width: 32px;\n",
              "    }\n",
              "\n",
              "    .colab-df-convert:hover {\n",
              "      background-color: #E2EBFA;\n",
              "      box-shadow: 0px 1px 2px rgba(60, 64, 67, 0.3), 0px 1px 3px 1px rgba(60, 64, 67, 0.15);\n",
              "      fill: #174EA6;\n",
              "    }\n",
              "\n",
              "    .colab-df-buttons div {\n",
              "      margin-bottom: 4px;\n",
              "    }\n",
              "\n",
              "    [theme=dark] .colab-df-convert {\n",
              "      background-color: #3B4455;\n",
              "      fill: #D2E3FC;\n",
              "    }\n",
              "\n",
              "    [theme=dark] .colab-df-convert:hover {\n",
              "      background-color: #434B5C;\n",
              "      box-shadow: 0px 1px 3px 1px rgba(0, 0, 0, 0.15);\n",
              "      filter: drop-shadow(0px 1px 2px rgba(0, 0, 0, 0.3));\n",
              "      fill: #FFFFFF;\n",
              "    }\n",
              "  </style>\n",
              "\n",
              "    <script>\n",
              "      const buttonEl =\n",
              "        document.querySelector('#df-119a805e-03a2-40eb-8a84-2a7414157adb button.colab-df-convert');\n",
              "      buttonEl.style.display =\n",
              "        google.colab.kernel.accessAllowed ? 'block' : 'none';\n",
              "\n",
              "      async function convertToInteractive(key) {\n",
              "        const element = document.querySelector('#df-119a805e-03a2-40eb-8a84-2a7414157adb');\n",
              "        const dataTable =\n",
              "          await google.colab.kernel.invokeFunction('convertToInteractive',\n",
              "                                                    [key], {});\n",
              "        if (!dataTable) return;\n",
              "\n",
              "        const docLinkHtml = 'Like what you see? Visit the ' +\n",
              "          '<a target=\"_blank\" href=https://colab.research.google.com/notebooks/data_table.ipynb>data table notebook</a>'\n",
              "          + ' to learn more about interactive tables.';\n",
              "        element.innerHTML = '';\n",
              "        dataTable['output_type'] = 'display_data';\n",
              "        await google.colab.output.renderOutput(dataTable, element);\n",
              "        const docLink = document.createElement('div');\n",
              "        docLink.innerHTML = docLinkHtml;\n",
              "        element.appendChild(docLink);\n",
              "      }\n",
              "    </script>\n",
              "  </div>\n",
              "\n",
              "\n",
              "<div id=\"df-9939b8de-43be-4b3f-88ac-635cd053e459\">\n",
              "  <button class=\"colab-df-quickchart\" onclick=\"quickchart('df-9939b8de-43be-4b3f-88ac-635cd053e459')\"\n",
              "            title=\"Suggest charts\"\n",
              "            style=\"display:none;\">\n",
              "\n",
              "<svg xmlns=\"http://www.w3.org/2000/svg\" height=\"24px\"viewBox=\"0 0 24 24\"\n",
              "     width=\"24px\">\n",
              "    <g>\n",
              "        <path d=\"M19 3H5c-1.1 0-2 .9-2 2v14c0 1.1.9 2 2 2h14c1.1 0 2-.9 2-2V5c0-1.1-.9-2-2-2zM9 17H7v-7h2v7zm4 0h-2V7h2v10zm4 0h-2v-4h2v4z\"/>\n",
              "    </g>\n",
              "</svg>\n",
              "  </button>\n",
              "\n",
              "<style>\n",
              "  .colab-df-quickchart {\n",
              "      --bg-color: #E8F0FE;\n",
              "      --fill-color: #1967D2;\n",
              "      --hover-bg-color: #E2EBFA;\n",
              "      --hover-fill-color: #174EA6;\n",
              "      --disabled-fill-color: #AAA;\n",
              "      --disabled-bg-color: #DDD;\n",
              "  }\n",
              "\n",
              "  [theme=dark] .colab-df-quickchart {\n",
              "      --bg-color: #3B4455;\n",
              "      --fill-color: #D2E3FC;\n",
              "      --hover-bg-color: #434B5C;\n",
              "      --hover-fill-color: #FFFFFF;\n",
              "      --disabled-bg-color: #3B4455;\n",
              "      --disabled-fill-color: #666;\n",
              "  }\n",
              "\n",
              "  .colab-df-quickchart {\n",
              "    background-color: var(--bg-color);\n",
              "    border: none;\n",
              "    border-radius: 50%;\n",
              "    cursor: pointer;\n",
              "    display: none;\n",
              "    fill: var(--fill-color);\n",
              "    height: 32px;\n",
              "    padding: 0;\n",
              "    width: 32px;\n",
              "  }\n",
              "\n",
              "  .colab-df-quickchart:hover {\n",
              "    background-color: var(--hover-bg-color);\n",
              "    box-shadow: 0 1px 2px rgba(60, 64, 67, 0.3), 0 1px 3px 1px rgba(60, 64, 67, 0.15);\n",
              "    fill: var(--button-hover-fill-color);\n",
              "  }\n",
              "\n",
              "  .colab-df-quickchart-complete:disabled,\n",
              "  .colab-df-quickchart-complete:disabled:hover {\n",
              "    background-color: var(--disabled-bg-color);\n",
              "    fill: var(--disabled-fill-color);\n",
              "    box-shadow: none;\n",
              "  }\n",
              "\n",
              "  .colab-df-spinner {\n",
              "    border: 2px solid var(--fill-color);\n",
              "    border-color: transparent;\n",
              "    border-bottom-color: var(--fill-color);\n",
              "    animation:\n",
              "      spin 1s steps(1) infinite;\n",
              "  }\n",
              "\n",
              "  @keyframes spin {\n",
              "    0% {\n",
              "      border-color: transparent;\n",
              "      border-bottom-color: var(--fill-color);\n",
              "      border-left-color: var(--fill-color);\n",
              "    }\n",
              "    20% {\n",
              "      border-color: transparent;\n",
              "      border-left-color: var(--fill-color);\n",
              "      border-top-color: var(--fill-color);\n",
              "    }\n",
              "    30% {\n",
              "      border-color: transparent;\n",
              "      border-left-color: var(--fill-color);\n",
              "      border-top-color: var(--fill-color);\n",
              "      border-right-color: var(--fill-color);\n",
              "    }\n",
              "    40% {\n",
              "      border-color: transparent;\n",
              "      border-right-color: var(--fill-color);\n",
              "      border-top-color: var(--fill-color);\n",
              "    }\n",
              "    60% {\n",
              "      border-color: transparent;\n",
              "      border-right-color: var(--fill-color);\n",
              "    }\n",
              "    80% {\n",
              "      border-color: transparent;\n",
              "      border-right-color: var(--fill-color);\n",
              "      border-bottom-color: var(--fill-color);\n",
              "    }\n",
              "    90% {\n",
              "      border-color: transparent;\n",
              "      border-bottom-color: var(--fill-color);\n",
              "    }\n",
              "  }\n",
              "</style>\n",
              "\n",
              "  <script>\n",
              "    async function quickchart(key) {\n",
              "      const quickchartButtonEl =\n",
              "        document.querySelector('#' + key + ' button');\n",
              "      quickchartButtonEl.disabled = true;  // To prevent multiple clicks.\n",
              "      quickchartButtonEl.classList.add('colab-df-spinner');\n",
              "      try {\n",
              "        const charts = await google.colab.kernel.invokeFunction(\n",
              "            'suggestCharts', [key], {});\n",
              "      } catch (error) {\n",
              "        console.error('Error during call to suggestCharts:', error);\n",
              "      }\n",
              "      quickchartButtonEl.classList.remove('colab-df-spinner');\n",
              "      quickchartButtonEl.classList.add('colab-df-quickchart-complete');\n",
              "    }\n",
              "    (() => {\n",
              "      let quickchartButtonEl =\n",
              "        document.querySelector('#df-9939b8de-43be-4b3f-88ac-635cd053e459 button');\n",
              "      quickchartButtonEl.style.display =\n",
              "        google.colab.kernel.accessAllowed ? 'block' : 'none';\n",
              "    })();\n",
              "  </script>\n",
              "</div>\n",
              "\n",
              "    </div>\n",
              "  </div>\n"
            ],
            "application/vnd.google.colaboratory.intrinsic+json": {
              "type": "dataframe",
              "summary": "{\n  \"name\": \"df_studentGrades\",\n  \"rows\": 8,\n  \"fields\": [\n    {\n      \"column\": \"studentID\",\n      \"properties\": {\n        \"dtype\": \"number\",\n        \"std\": 31081.141649387217,\n        \"min\": 14.0,\n        \"max\": 90449.0,\n        \"num_unique_values\": 8,\n        \"samples\": [\n          54086.71428571428,\n          58087.0,\n          14.0\n        ],\n        \"semantic_type\": \"\",\n        \"description\": \"\"\n      }\n    },\n    {\n      \"column\": \"englishGrade\",\n      \"properties\": {\n        \"dtype\": \"number\",\n        \"std\": 36.197425057189086,\n        \"min\": 6.145220603341776,\n        \"max\": 98.0,\n        \"num_unique_values\": 8,\n        \"samples\": [\n          86.92857142857143,\n          87.5,\n          14.0\n        ],\n        \"semantic_type\": \"\",\n        \"description\": \"\"\n      }\n    },\n    {\n      \"column\": \"mathGrade\",\n      \"properties\": {\n        \"dtype\": \"number\",\n        \"std\": 36.838711214497636,\n        \"min\": 5.918865350129789,\n        \"max\": 99.0,\n        \"num_unique_values\": 8,\n        \"samples\": [\n          88.57142857142857,\n          87.5,\n          14.0\n        ],\n        \"semantic_type\": \"\",\n        \"description\": \"\"\n      }\n    },\n    {\n      \"column\": \"GPA\",\n      \"properties\": {\n        \"dtype\": \"number\",\n        \"std\": 36.77057000436813,\n        \"min\": 3.6360904617671226,\n        \"max\": 92.5,\n        \"num_unique_values\": 8,\n        \"samples\": [\n          87.75,\n          89.0,\n          14.0\n        ],\n        \"semantic_type\": \"\",\n        \"description\": \"\"\n      }\n    }\n  ]\n}"
            }
          },
          "metadata": {},
          "execution_count": 60
        }
      ],
      "source": [
        "# Now let's find out some statistics about our student grades!\n",
        "# Please use an appropriate Pandas method in the space below to display statistical values like\n",
        "# mean, standard deviation, min, max, and others.\n",
        "# (1 mark)\n",
        "df_studentGrades.describe()"
      ]
    },
    {
      "cell_type": "code",
      "execution_count": 61,
      "id": "22589631-5517-4b64-937e-61a53ade15fa",
      "metadata": {
        "id": "22589631-5517-4b64-937e-61a53ade15fa"
      },
      "outputs": [],
      "source": [
        "# Do you notice a problem?\n",
        "# Some statistics are not relevant. The average of studentIDs have no meaning in reality!\n",
        "# Let's typecast each column appropriately so as to only get meaningful statistics.\n",
        "# In the code below, replace '<>' by choosing between 'str' for string or 'float' for float\n",
        "# to properly typecast each column.\n",
        "# (3 marks)\n",
        "df_studentGrades['studentID'] = df_studentGrades['studentID'].astype(str)\n",
        "df_studentGrades['firstName'] = df_studentGrades['firstName'].astype(str)\n",
        "df_studentGrades['lastName'] = df_studentGrades['lastName'].astype(str)\n",
        "df_studentGrades['englishGrade'] = df_studentGrades['englishGrade'].astype(float)\n",
        "df_studentGrades['mathGrade'] = df_studentGrades['mathGrade'].astype(float)\n",
        "df_studentGrades['GPA'] = df_studentGrades['GPA'].astype(float)"
      ]
    },
    {
      "cell_type": "code",
      "execution_count": 62,
      "id": "6ab40afb-2787-45ab-a62b-e832fdee699d",
      "metadata": {
        "id": "6ab40afb-2787-45ab-a62b-e832fdee699d",
        "colab": {
          "base_uri": "https://localhost:8080/",
          "height": 300
        },
        "outputId": "3f4be2a0-2cc7-41b0-875f-eb9754c87d28"
      },
      "outputs": [
        {
          "output_type": "execute_result",
          "data": {
            "text/plain": [
              "       englishGrade  mathGrade       GPA\n",
              "count     14.000000  14.000000  14.00000\n",
              "mean      86.928571  88.571429  87.75000\n",
              "std        6.145221   5.918865   3.63609\n",
              "min       76.000000  79.000000  82.00000\n",
              "25%       82.500000  85.250000  84.50000\n",
              "50%       87.500000  87.500000  89.00000\n",
              "75%       90.750000  91.500000  90.50000\n",
              "max       98.000000  99.000000  92.50000"
            ],
            "text/html": [
              "\n",
              "  <div id=\"df-c46c35b1-dcd5-463c-86fd-3fe5d58cfacb\" class=\"colab-df-container\">\n",
              "    <div>\n",
              "<style scoped>\n",
              "    .dataframe tbody tr th:only-of-type {\n",
              "        vertical-align: middle;\n",
              "    }\n",
              "\n",
              "    .dataframe tbody tr th {\n",
              "        vertical-align: top;\n",
              "    }\n",
              "\n",
              "    .dataframe thead th {\n",
              "        text-align: right;\n",
              "    }\n",
              "</style>\n",
              "<table border=\"1\" class=\"dataframe\">\n",
              "  <thead>\n",
              "    <tr style=\"text-align: right;\">\n",
              "      <th></th>\n",
              "      <th>englishGrade</th>\n",
              "      <th>mathGrade</th>\n",
              "      <th>GPA</th>\n",
              "    </tr>\n",
              "  </thead>\n",
              "  <tbody>\n",
              "    <tr>\n",
              "      <th>count</th>\n",
              "      <td>14.000000</td>\n",
              "      <td>14.000000</td>\n",
              "      <td>14.00000</td>\n",
              "    </tr>\n",
              "    <tr>\n",
              "      <th>mean</th>\n",
              "      <td>86.928571</td>\n",
              "      <td>88.571429</td>\n",
              "      <td>87.75000</td>\n",
              "    </tr>\n",
              "    <tr>\n",
              "      <th>std</th>\n",
              "      <td>6.145221</td>\n",
              "      <td>5.918865</td>\n",
              "      <td>3.63609</td>\n",
              "    </tr>\n",
              "    <tr>\n",
              "      <th>min</th>\n",
              "      <td>76.000000</td>\n",
              "      <td>79.000000</td>\n",
              "      <td>82.00000</td>\n",
              "    </tr>\n",
              "    <tr>\n",
              "      <th>25%</th>\n",
              "      <td>82.500000</td>\n",
              "      <td>85.250000</td>\n",
              "      <td>84.50000</td>\n",
              "    </tr>\n",
              "    <tr>\n",
              "      <th>50%</th>\n",
              "      <td>87.500000</td>\n",
              "      <td>87.500000</td>\n",
              "      <td>89.00000</td>\n",
              "    </tr>\n",
              "    <tr>\n",
              "      <th>75%</th>\n",
              "      <td>90.750000</td>\n",
              "      <td>91.500000</td>\n",
              "      <td>90.50000</td>\n",
              "    </tr>\n",
              "    <tr>\n",
              "      <th>max</th>\n",
              "      <td>98.000000</td>\n",
              "      <td>99.000000</td>\n",
              "      <td>92.50000</td>\n",
              "    </tr>\n",
              "  </tbody>\n",
              "</table>\n",
              "</div>\n",
              "    <div class=\"colab-df-buttons\">\n",
              "\n",
              "  <div class=\"colab-df-container\">\n",
              "    <button class=\"colab-df-convert\" onclick=\"convertToInteractive('df-c46c35b1-dcd5-463c-86fd-3fe5d58cfacb')\"\n",
              "            title=\"Convert this dataframe to an interactive table.\"\n",
              "            style=\"display:none;\">\n",
              "\n",
              "  <svg xmlns=\"http://www.w3.org/2000/svg\" height=\"24px\" viewBox=\"0 -960 960 960\">\n",
              "    <path d=\"M120-120v-720h720v720H120Zm60-500h600v-160H180v160Zm220 220h160v-160H400v160Zm0 220h160v-160H400v160ZM180-400h160v-160H180v160Zm440 0h160v-160H620v160ZM180-180h160v-160H180v160Zm440 0h160v-160H620v160Z\"/>\n",
              "  </svg>\n",
              "    </button>\n",
              "\n",
              "  <style>\n",
              "    .colab-df-container {\n",
              "      display:flex;\n",
              "      gap: 12px;\n",
              "    }\n",
              "\n",
              "    .colab-df-convert {\n",
              "      background-color: #E8F0FE;\n",
              "      border: none;\n",
              "      border-radius: 50%;\n",
              "      cursor: pointer;\n",
              "      display: none;\n",
              "      fill: #1967D2;\n",
              "      height: 32px;\n",
              "      padding: 0 0 0 0;\n",
              "      width: 32px;\n",
              "    }\n",
              "\n",
              "    .colab-df-convert:hover {\n",
              "      background-color: #E2EBFA;\n",
              "      box-shadow: 0px 1px 2px rgba(60, 64, 67, 0.3), 0px 1px 3px 1px rgba(60, 64, 67, 0.15);\n",
              "      fill: #174EA6;\n",
              "    }\n",
              "\n",
              "    .colab-df-buttons div {\n",
              "      margin-bottom: 4px;\n",
              "    }\n",
              "\n",
              "    [theme=dark] .colab-df-convert {\n",
              "      background-color: #3B4455;\n",
              "      fill: #D2E3FC;\n",
              "    }\n",
              "\n",
              "    [theme=dark] .colab-df-convert:hover {\n",
              "      background-color: #434B5C;\n",
              "      box-shadow: 0px 1px 3px 1px rgba(0, 0, 0, 0.15);\n",
              "      filter: drop-shadow(0px 1px 2px rgba(0, 0, 0, 0.3));\n",
              "      fill: #FFFFFF;\n",
              "    }\n",
              "  </style>\n",
              "\n",
              "    <script>\n",
              "      const buttonEl =\n",
              "        document.querySelector('#df-c46c35b1-dcd5-463c-86fd-3fe5d58cfacb button.colab-df-convert');\n",
              "      buttonEl.style.display =\n",
              "        google.colab.kernel.accessAllowed ? 'block' : 'none';\n",
              "\n",
              "      async function convertToInteractive(key) {\n",
              "        const element = document.querySelector('#df-c46c35b1-dcd5-463c-86fd-3fe5d58cfacb');\n",
              "        const dataTable =\n",
              "          await google.colab.kernel.invokeFunction('convertToInteractive',\n",
              "                                                    [key], {});\n",
              "        if (!dataTable) return;\n",
              "\n",
              "        const docLinkHtml = 'Like what you see? Visit the ' +\n",
              "          '<a target=\"_blank\" href=https://colab.research.google.com/notebooks/data_table.ipynb>data table notebook</a>'\n",
              "          + ' to learn more about interactive tables.';\n",
              "        element.innerHTML = '';\n",
              "        dataTable['output_type'] = 'display_data';\n",
              "        await google.colab.output.renderOutput(dataTable, element);\n",
              "        const docLink = document.createElement('div');\n",
              "        docLink.innerHTML = docLinkHtml;\n",
              "        element.appendChild(docLink);\n",
              "      }\n",
              "    </script>\n",
              "  </div>\n",
              "\n",
              "\n",
              "<div id=\"df-fc8fb006-5b1f-499a-af47-038afdb7df13\">\n",
              "  <button class=\"colab-df-quickchart\" onclick=\"quickchart('df-fc8fb006-5b1f-499a-af47-038afdb7df13')\"\n",
              "            title=\"Suggest charts\"\n",
              "            style=\"display:none;\">\n",
              "\n",
              "<svg xmlns=\"http://www.w3.org/2000/svg\" height=\"24px\"viewBox=\"0 0 24 24\"\n",
              "     width=\"24px\">\n",
              "    <g>\n",
              "        <path d=\"M19 3H5c-1.1 0-2 .9-2 2v14c0 1.1.9 2 2 2h14c1.1 0 2-.9 2-2V5c0-1.1-.9-2-2-2zM9 17H7v-7h2v7zm4 0h-2V7h2v10zm4 0h-2v-4h2v4z\"/>\n",
              "    </g>\n",
              "</svg>\n",
              "  </button>\n",
              "\n",
              "<style>\n",
              "  .colab-df-quickchart {\n",
              "      --bg-color: #E8F0FE;\n",
              "      --fill-color: #1967D2;\n",
              "      --hover-bg-color: #E2EBFA;\n",
              "      --hover-fill-color: #174EA6;\n",
              "      --disabled-fill-color: #AAA;\n",
              "      --disabled-bg-color: #DDD;\n",
              "  }\n",
              "\n",
              "  [theme=dark] .colab-df-quickchart {\n",
              "      --bg-color: #3B4455;\n",
              "      --fill-color: #D2E3FC;\n",
              "      --hover-bg-color: #434B5C;\n",
              "      --hover-fill-color: #FFFFFF;\n",
              "      --disabled-bg-color: #3B4455;\n",
              "      --disabled-fill-color: #666;\n",
              "  }\n",
              "\n",
              "  .colab-df-quickchart {\n",
              "    background-color: var(--bg-color);\n",
              "    border: none;\n",
              "    border-radius: 50%;\n",
              "    cursor: pointer;\n",
              "    display: none;\n",
              "    fill: var(--fill-color);\n",
              "    height: 32px;\n",
              "    padding: 0;\n",
              "    width: 32px;\n",
              "  }\n",
              "\n",
              "  .colab-df-quickchart:hover {\n",
              "    background-color: var(--hover-bg-color);\n",
              "    box-shadow: 0 1px 2px rgba(60, 64, 67, 0.3), 0 1px 3px 1px rgba(60, 64, 67, 0.15);\n",
              "    fill: var(--button-hover-fill-color);\n",
              "  }\n",
              "\n",
              "  .colab-df-quickchart-complete:disabled,\n",
              "  .colab-df-quickchart-complete:disabled:hover {\n",
              "    background-color: var(--disabled-bg-color);\n",
              "    fill: var(--disabled-fill-color);\n",
              "    box-shadow: none;\n",
              "  }\n",
              "\n",
              "  .colab-df-spinner {\n",
              "    border: 2px solid var(--fill-color);\n",
              "    border-color: transparent;\n",
              "    border-bottom-color: var(--fill-color);\n",
              "    animation:\n",
              "      spin 1s steps(1) infinite;\n",
              "  }\n",
              "\n",
              "  @keyframes spin {\n",
              "    0% {\n",
              "      border-color: transparent;\n",
              "      border-bottom-color: var(--fill-color);\n",
              "      border-left-color: var(--fill-color);\n",
              "    }\n",
              "    20% {\n",
              "      border-color: transparent;\n",
              "      border-left-color: var(--fill-color);\n",
              "      border-top-color: var(--fill-color);\n",
              "    }\n",
              "    30% {\n",
              "      border-color: transparent;\n",
              "      border-left-color: var(--fill-color);\n",
              "      border-top-color: var(--fill-color);\n",
              "      border-right-color: var(--fill-color);\n",
              "    }\n",
              "    40% {\n",
              "      border-color: transparent;\n",
              "      border-right-color: var(--fill-color);\n",
              "      border-top-color: var(--fill-color);\n",
              "    }\n",
              "    60% {\n",
              "      border-color: transparent;\n",
              "      border-right-color: var(--fill-color);\n",
              "    }\n",
              "    80% {\n",
              "      border-color: transparent;\n",
              "      border-right-color: var(--fill-color);\n",
              "      border-bottom-color: var(--fill-color);\n",
              "    }\n",
              "    90% {\n",
              "      border-color: transparent;\n",
              "      border-bottom-color: var(--fill-color);\n",
              "    }\n",
              "  }\n",
              "</style>\n",
              "\n",
              "  <script>\n",
              "    async function quickchart(key) {\n",
              "      const quickchartButtonEl =\n",
              "        document.querySelector('#' + key + ' button');\n",
              "      quickchartButtonEl.disabled = true;  // To prevent multiple clicks.\n",
              "      quickchartButtonEl.classList.add('colab-df-spinner');\n",
              "      try {\n",
              "        const charts = await google.colab.kernel.invokeFunction(\n",
              "            'suggestCharts', [key], {});\n",
              "      } catch (error) {\n",
              "        console.error('Error during call to suggestCharts:', error);\n",
              "      }\n",
              "      quickchartButtonEl.classList.remove('colab-df-spinner');\n",
              "      quickchartButtonEl.classList.add('colab-df-quickchart-complete');\n",
              "    }\n",
              "    (() => {\n",
              "      let quickchartButtonEl =\n",
              "        document.querySelector('#df-fc8fb006-5b1f-499a-af47-038afdb7df13 button');\n",
              "      quickchartButtonEl.style.display =\n",
              "        google.colab.kernel.accessAllowed ? 'block' : 'none';\n",
              "    })();\n",
              "  </script>\n",
              "</div>\n",
              "\n",
              "    </div>\n",
              "  </div>\n"
            ],
            "application/vnd.google.colaboratory.intrinsic+json": {
              "type": "dataframe",
              "summary": "{\n  \"name\": \"df_studentGrades\",\n  \"rows\": 8,\n  \"fields\": [\n    {\n      \"column\": \"englishGrade\",\n      \"properties\": {\n        \"dtype\": \"number\",\n        \"std\": 36.197425057189086,\n        \"min\": 6.145220603341776,\n        \"max\": 98.0,\n        \"num_unique_values\": 8,\n        \"samples\": [\n          86.92857142857143,\n          87.5,\n          14.0\n        ],\n        \"semantic_type\": \"\",\n        \"description\": \"\"\n      }\n    },\n    {\n      \"column\": \"mathGrade\",\n      \"properties\": {\n        \"dtype\": \"number\",\n        \"std\": 36.838711214497636,\n        \"min\": 5.918865350129789,\n        \"max\": 99.0,\n        \"num_unique_values\": 8,\n        \"samples\": [\n          88.57142857142857,\n          87.5,\n          14.0\n        ],\n        \"semantic_type\": \"\",\n        \"description\": \"\"\n      }\n    },\n    {\n      \"column\": \"GPA\",\n      \"properties\": {\n        \"dtype\": \"number\",\n        \"std\": 36.77057000436813,\n        \"min\": 3.6360904617671226,\n        \"max\": 92.5,\n        \"num_unique_values\": 8,\n        \"samples\": [\n          87.75,\n          89.0,\n          14.0\n        ],\n        \"semantic_type\": \"\",\n        \"description\": \"\"\n      }\n    }\n  ]\n}"
            }
          },
          "metadata": {},
          "execution_count": 62
        }
      ],
      "source": [
        "# Now let's see our statistics!\n",
        "df_studentGrades.describe()"
      ]
    },
    {
      "cell_type": "code",
      "execution_count": 63,
      "id": "8wd6ggXcaszZ",
      "metadata": {
        "id": "8wd6ggXcaszZ",
        "colab": {
          "base_uri": "https://localhost:8080/"
        },
        "outputId": "97a506a7-0825-4973-c7df-b8eabc8c2c49"
      },
      "outputs": [
        {
          "output_type": "stream",
          "name": "stdout",
          "text": [
            "   firstName  lastName studentID  englishGrade  mathGrade   GPA\n",
            "0       Emma     Smith     10959          95.0       90.0  92.5\n",
            "12      Sara       Doe     47991          98.0       86.0  92.0\n",
            "1     Sophia  Robinson     75175          88.0       95.0  91.5\n",
            "9       Anne     Clark     90449          82.0       99.0  90.5\n",
            "10      Ryan    Thomas     62137          92.0       89.0  90.5\n",
            "4    Stephen     Curry     30303          90.0       88.0  89.0\n",
            "8      Sarah     Swift     61026          80.0       98.0  89.0\n",
            "11    Daniel     White     25477          91.0       87.0  89.0\n",
            "3      David  Robinson     55148          86.0       87.0  86.5\n",
            "2       Emma    Taylor     42257          87.0       85.0  86.0\n",
            "7      James     Jones     87707          76.0       92.0  84.0\n",
            "5   Isabella  Thompson     72824          88.0       79.0  83.5\n",
            "13   Matthew     White     25376          80.0       85.0  82.5\n",
            "6    Jasmine     Smith     70385          84.0       80.0  82.0\n"
          ]
        }
      ],
      "source": [
        "# Now sort the merged dataframe so that it is in descending order based on GPA, and print it\n",
        "# (1 mark)\n",
        "df_studentsGPASorted = df_studentGrades.sort_values(by = 'GPA', ascending = False)\n",
        "print(df_studentsGPASorted)"
      ]
    },
    {
      "cell_type": "code",
      "execution_count": 64,
      "id": "Y7Kjr1Jqbv_R",
      "metadata": {
        "id": "Y7Kjr1Jqbv_R"
      },
      "outputs": [],
      "source": [
        "# If we wanted to access the student with the highest gpa based on df_studentsGPASorted,\n",
        "# does .iloc or .loc make more sense and why?\n",
        "# (2 marks)\n",
        "# No, because we don't know who has the highest GPA until it's sorted. .iloc and .loc just make sense when we know the specific rows or columns."
      ]
    },
    {
      "cell_type": "code",
      "execution_count": 65,
      "id": "6pQN2HYDeMrm",
      "metadata": {
        "id": "6pQN2HYDeMrm"
      },
      "outputs": [],
      "source": [
        "# Now using the method you specified, assign the variable below to the row containing the student with the highest GPA\n",
        "# (1 mark)\n",
        "top_student = df_studentsGPASorted.iloc[0]"
      ]
    },
    {
      "cell_type": "code",
      "execution_count": 66,
      "id": "C-oIXOOwdpx2",
      "metadata": {
        "id": "C-oIXOOwdpx2",
        "colab": {
          "base_uri": "https://localhost:8080/"
        },
        "outputId": "e1e123ce-e27f-4f26-e9dd-884c8801b5bc"
      },
      "outputs": [
        {
          "output_type": "stream",
          "name": "stdout",
          "text": [
            "The student with the highest GPA is Emma Smith with a GPA of 92.5\n"
          ]
        }
      ],
      "source": [
        "# Now print the student first name and last name with the highest GPA in this format:\n",
        "# \"The student with the highest GPA is <firstName> <lastName> with a GPA of <GPA>\"\n",
        "# (1 mark)\n",
        "print(f\"The student with the highest GPA is {top_student['firstName']} {top_student['lastName']} with a GPA of {top_student['GPA']}\")"
      ]
    },
    {
      "cell_type": "code",
      "execution_count": 67,
      "id": "4-U4nZbRee4x",
      "metadata": {
        "id": "4-U4nZbRee4x",
        "colab": {
          "base_uri": "https://localhost:8080/"
        },
        "outputId": "ee36fcf4-8ed1-40a5-da74-59e39a6c07bb"
      },
      "outputs": [
        {
          "output_type": "stream",
          "name": "stdout",
          "text": [
            "  firstName  lastName studentID  englishGrade  mathGrade   GPA\n",
            "1    Sophia  Robinson     75175          88.0       95.0  91.5\n",
            "9      Anne     Clark     90449          82.0       99.0  90.5\n",
            "8     Sarah     Swift     61026          80.0       98.0  89.0\n",
            "7     James     Jones     87707          76.0       92.0  84.0\n"
          ]
        }
      ],
      "source": [
        "# We can use logical expressions to filter and print data. For example, let's print the students with math grades higher than 90:\n",
        "df_mathGrade_over90 = df_studentsGPASorted[df_studentsGPASorted['mathGrade'] > 90]\n",
        "print(df_mathGrade_over90)"
      ]
    },
    {
      "cell_type": "code",
      "execution_count": 68,
      "id": "lTp6vfG2fVQM",
      "metadata": {
        "id": "lTp6vfG2fVQM",
        "colab": {
          "base_uri": "https://localhost:8080/"
        },
        "outputId": "36908747-e9cf-4fc8-bde0-b7c1867233b1"
      },
      "outputs": [
        {
          "output_type": "stream",
          "name": "stdout",
          "text": [
            "   firstName  lastName studentID  englishGrade  mathGrade   GPA\n",
            "7      James     Jones     87707          76.0       92.0  84.0\n",
            "5   Isabella  Thompson     72824          88.0       79.0  83.5\n",
            "13   Matthew     White     25376          80.0       85.0  82.5\n",
            "6    Jasmine     Smith     70385          84.0       80.0  82.0\n"
          ]
        }
      ],
      "source": [
        "# Now print the students whos GPA are lower than 85\n",
        "# (2 marks)\n",
        "df_GPAunder85 = df_studentsGPASorted[df_studentsGPASorted['GPA'] < 85]\n",
        "print(df_GPAunder85)"
      ]
    },
    {
      "cell_type": "markdown",
      "id": "7zMefl3LSqQs",
      "metadata": {
        "id": "7zMefl3LSqQs"
      },
      "source": [
        "## Part 3: More Data Analytics using Pandas\n",
        "### (20 marks)"
      ]
    },
    {
      "cell_type": "code",
      "execution_count": 69,
      "id": "F_W0PBCdSxg9",
      "metadata": {
        "id": "F_W0PBCdSxg9",
        "colab": {
          "base_uri": "https://localhost:8080/"
        },
        "outputId": "37706c36-9275-4d26-92ef-6943325db6f4"
      },
      "outputs": [
        {
          "output_type": "stream",
          "name": "stdout",
          "text": [
            "0     95\n",
            "1     88\n",
            "2     87\n",
            "3     86\n",
            "4     90\n",
            "5     88\n",
            "6     84\n",
            "7     76\n",
            "8     80\n",
            "9     82\n",
            "10    92\n",
            "11    91\n",
            "12    98\n",
            "13    80\n",
            "Name: grade, dtype: int64\n"
          ]
        }
      ],
      "source": [
        "# Select the column 'grade' from the original English grade dataset and print it\n",
        "# (1 mark)\n",
        "print(df_english['grade'])"
      ]
    },
    {
      "cell_type": "code",
      "execution_count": 70,
      "id": "d_Mo59OuT0IV",
      "metadata": {
        "id": "d_Mo59OuT0IV",
        "colab": {
          "base_uri": "https://localhost:8080/"
        },
        "outputId": "d05f6076-1968-487a-938c-de0e1af02d50"
      },
      "outputs": [
        {
          "output_type": "stream",
          "name": "stdout",
          "text": [
            "0     92.5\n",
            "1     91.5\n",
            "2     86.0\n",
            "3     86.5\n",
            "4     89.0\n",
            "5     83.5\n",
            "6     82.0\n",
            "7     84.0\n",
            "8     89.0\n",
            "9     90.5\n",
            "10    90.5\n",
            "11    89.0\n",
            "12    92.0\n",
            "13    82.5\n",
            "Name: GPA, dtype: float64\n"
          ]
        }
      ],
      "source": [
        "# Select the column 'GPA' from the df_studentGrades and print it\n",
        "# (1 mark)\n",
        "print(df_studentGrades['GPA'])"
      ]
    },
    {
      "cell_type": "code",
      "execution_count": 71,
      "id": "EdHYR2hYVbef",
      "metadata": {
        "id": "EdHYR2hYVbef"
      },
      "outputs": [],
      "source": [
        "# What is the data type of grade from the English grade dataset?\n",
        "# (0.5 mark)\n",
        "#integer\n",
        "\n",
        "# What is the data type of GPA from the merged dataset?\n",
        "# (0.5 mark)\n",
        "#float\n",
        "\n",
        "# Is it different? Why?\n",
        "# (1 mark)\n",
        "#Yes it is different because integers are negative and positive whole numbers while floats are decimal numbers and the GPA calculated is in decimals."
      ]
    },
    {
      "cell_type": "code",
      "execution_count": 72,
      "id": "chmwegDeV6Dr",
      "metadata": {
        "id": "chmwegDeV6Dr"
      },
      "outputs": [],
      "source": [
        "# Load the student homeroom CSV file into a DataFrame using the following variable name\n",
        "# (1 mark)\n",
        "df_homeroom = pd.read_csv('/content/drive/MyDrive/engg680_2024_fall/Lab_Assignment1/studentHomerooms.csv')"
      ]
    },
    {
      "cell_type": "code",
      "execution_count": 73,
      "id": "7ISGewvrXI7u",
      "metadata": {
        "id": "7ISGewvrXI7u",
        "colab": {
          "base_uri": "https://localhost:8080/"
        },
        "outputId": "0f5a5799-833c-4e92-a123-c69fe3adb07f"
      },
      "outputs": [
        {
          "output_type": "stream",
          "name": "stdout",
          "text": [
            "  firstName  lastName studentID  englishGrade  mathGrade   GPA  homeRoom\n",
            "0      Emma     Smith     10959          95.0       90.0  92.5       313\n",
            "1    Sophia  Robinson     75175          88.0       95.0  91.5       311\n",
            "2      Emma    Taylor     42257          87.0       85.0  86.0       311\n",
            "3     David  Robinson     55148          86.0       87.0  86.5       313\n",
            "4   Stephen     Curry     30303          90.0       88.0  89.0       313\n"
          ]
        }
      ],
      "source": [
        "# Merge the studentHomerooms with the merged dataset. Make sure that the key you are joining on are the same typecast for both datasets.\n",
        "# Also ensure that there are no redundant columns, and finally display the first few rows.\n",
        "# Hint: try joining on more than one column to avoid having to drop redundant columns, ie. on=['studentID', '<ColumnA>', '<ColumnB>'] ...\n",
        "# (5 marks)\n",
        "df_homeroom['studentID'] = df_homeroom['studentID'].astype(str)\n",
        "df_merged = pd.merge(df_studentGrades, df_homeroom, on=['studentID', 'firstName', 'lastName'], how = 'inner')\n",
        "print(df_merged.head())"
      ]
    },
    {
      "cell_type": "code",
      "execution_count": 74,
      "id": "aZIl5LCWZ2cL",
      "metadata": {
        "id": "aZIl5LCWZ2cL",
        "colab": {
          "base_uri": "https://localhost:8080/"
        },
        "outputId": "2445fb97-fa38-49ad-8685-2899322c7518"
      },
      "outputs": [
        {
          "output_type": "stream",
          "name": "stdout",
          "text": [
            "homeRoom\n",
            "311    88.785714\n",
            "313    86.714286\n",
            "Name: GPA, dtype: float64\n"
          ]
        }
      ],
      "source": [
        "# The code below calculates the mean of each homeroom class.\n",
        "df_grouped = df_merged.groupby('homeRoom')['GPA'].mean()\n",
        "\n",
        "# Which homeroom has a higher GPA?\n",
        "# (1 mark)\n",
        "print(df_grouped)"
      ]
    },
    {
      "cell_type": "code",
      "execution_count": 75,
      "id": "I1EtLRpVkCJt",
      "metadata": {
        "id": "I1EtLRpVkCJt",
        "colab": {
          "base_uri": "https://localhost:8080/"
        },
        "outputId": "0367a7a4-b99f-45ac-b6cb-a3eb39afad3f"
      },
      "outputs": [
        {
          "output_type": "stream",
          "name": "stdout",
          "text": [
            "   firstName  lastName studentID  englishGrade  mathGrade   GPA  homeRoom\n",
            "0       Emma     Smith     10959          95.0       90.0  92.5       313\n",
            "10      Ryan    Thomas     62137          92.0       89.0  90.5       313\n",
            "4    Stephen     Curry     30303          90.0       88.0  89.0       313\n",
            "3      David  Robinson     55148          86.0       87.0  86.5       313\n",
            "7      James     Jones     87707          76.0       92.0  84.0       313\n",
            "13   Matthew     White     25376          80.0       85.0  82.5       313\n",
            "6    Jasmine     Smith     70385          84.0       80.0  82.0       313\n",
            "12      Sara       Doe     47991          98.0       86.0  92.0       311\n",
            "1     Sophia  Robinson     75175          88.0       95.0  91.5       311\n",
            "9       Anne     Clark     90449          82.0       99.0  90.5       311\n",
            "8      Sarah     Swift     61026          80.0       98.0  89.0       311\n",
            "11    Daniel     White     25477          91.0       87.0  89.0       311\n",
            "2       Emma    Taylor     42257          87.0       85.0  86.0       311\n",
            "5   Isabella  Thompson     72824          88.0       79.0  83.5       311\n"
          ]
        }
      ],
      "source": [
        "# Now let's work with multiple sorts. The .sort_values() method can sort by multiple columns, meaning you can specify a primary column and a secondary column for sorting.\n",
        "# For example, by=['ColumnA', 'ColumnB'] will first sort by ColumnA and then by ColumnB.\n",
        "# Create and print a DataFrame, df_studentsGPASorted_homeroom, which is sorted by homeRoom and then by GPA, both in descending order.\n",
        "# (3 mark)\n",
        "df_studentsGPASorted_homeroom = df_merged.sort_values(by = ['homeRoom', 'GPA'], ascending = False)\n",
        "print(df_studentsGPASorted_homeroom)"
      ]
    },
    {
      "cell_type": "code",
      "execution_count": 76,
      "id": "7XWCjnSCox1a",
      "metadata": {
        "id": "7XWCjnSCox1a",
        "colab": {
          "base_uri": "https://localhost:8080/"
        },
        "outputId": "d9ef4207-45a8-445f-c9fb-df7a377b0f6d"
      },
      "outputs": [
        {
          "output_type": "stream",
          "name": "stdout",
          "text": [
            "         firstName  lastName studentID  englishGrade  mathGrade   GPA  \\\n",
            "newIndex                                                                \n",
            "313-1         Emma     Smith     10959          95.0       90.0  92.5   \n",
            "313-2         Ryan    Thomas     62137          92.0       89.0  90.5   \n",
            "313-3      Stephen     Curry     30303          90.0       88.0  89.0   \n",
            "313-4        David  Robinson     55148          86.0       87.0  86.5   \n",
            "313-5        James     Jones     87707          76.0       92.0  84.0   \n",
            "313-6      Matthew     White     25376          80.0       85.0  82.5   \n",
            "313-7      Jasmine     Smith     70385          84.0       80.0  82.0   \n",
            "311-1         Sara       Doe     47991          98.0       86.0  92.0   \n",
            "311-2       Sophia  Robinson     75175          88.0       95.0  91.5   \n",
            "311-3         Anne     Clark     90449          82.0       99.0  90.5   \n",
            "311-4        Sarah     Swift     61026          80.0       98.0  89.0   \n",
            "311-5       Daniel     White     25477          91.0       87.0  89.0   \n",
            "311-6         Emma    Taylor     42257          87.0       85.0  86.0   \n",
            "311-7     Isabella  Thompson     72824          88.0       79.0  83.5   \n",
            "\n",
            "          homeRoom  \n",
            "newIndex            \n",
            "313-1          313  \n",
            "313-2          313  \n",
            "313-3          313  \n",
            "313-4          313  \n",
            "313-5          313  \n",
            "313-6          313  \n",
            "313-7          313  \n",
            "311-1          311  \n",
            "311-2          311  \n",
            "311-3          311  \n",
            "311-4          311  \n",
            "311-5          311  \n",
            "311-6          311  \n",
            "311-7          311  \n"
          ]
        }
      ],
      "source": [
        "# Do you notice a problem with the indices? They are basically meaningless now that we have sorted by homeroom and GPA.\n",
        "\n",
        "# The code below changes the index of the dataframe so that it is more intuitive.\n",
        "df_studentsGPASorted_homeroom['studentRank'] = df_studentsGPASorted_homeroom.groupby('homeRoom').cumcount() + 1\n",
        "df_studentsGPASorted_homeroom['newIndex'] = df_studentsGPASorted_homeroom['homeRoom'].astype(str) + '-' + df_studentsGPASorted_homeroom['studentRank'].astype(str)\n",
        "df_studentsGPASorted_homeroom = df_studentsGPASorted_homeroom.set_index('newIndex')\n",
        "df_studentsGPASorted_homeroom = df_studentsGPASorted_homeroom.drop(columns=['studentRank'])\n",
        "\n",
        "print(df_studentsGPASorted_homeroom)"
      ]
    },
    {
      "cell_type": "code",
      "execution_count": 77,
      "id": "CUwJVCXfpsdJ",
      "metadata": {
        "id": "CUwJVCXfpsdJ"
      },
      "outputs": [],
      "source": [
        "# Describe what each coding line in the cell above is doing\n",
        "# (4 marks)\n",
        "#"
      ]
    },
    {
      "cell_type": "code",
      "execution_count": 78,
      "id": "t1iojeTVqLWW",
      "metadata": {
        "id": "t1iojeTVqLWW",
        "colab": {
          "base_uri": "https://localhost:8080/"
        },
        "outputId": "b55eafe8-0d00-4b64-dbd3-63bb4504bbb0"
      },
      "outputs": [
        {
          "output_type": "stream",
          "name": "stdout",
          "text": [
            "homeRoom\n",
            "311    92.0\n",
            "313    92.5\n",
            "Name: GPA, dtype: float64\n"
          ]
        }
      ],
      "source": [
        "from pickle import HIGHEST_PROTOCOL\n",
        "# Given df_studentsGPASorted_homeroom, please find and print the students with the highest GPA in each homeroom using the .loc method.\n",
        "# (2 marks)\n",
        "HIGHEST_GPA = df_studentsGPASorted_homeroom.groupby('homeRoom')['GPA'].max()\n",
        "print(HIGHEST_GPA)"
      ]
    },
    {
      "cell_type": "markdown",
      "id": "6360bc9f-ac32-4d0d-986d-f2cb21d422a9",
      "metadata": {
        "id": "6360bc9f-ac32-4d0d-986d-f2cb21d422a9"
      },
      "source": [
        "## Part 4: Using Matplotlib for Data Analytics\n",
        "### (14 marks)"
      ]
    },
    {
      "cell_type": "code",
      "execution_count": 86,
      "id": "44538b76-33d8-466e-8cc1-0936c22b541c",
      "metadata": {
        "id": "44538b76-33d8-466e-8cc1-0936c22b541c"
      },
      "outputs": [],
      "source": [
        "# In the space below, please import the matplotlib library\n",
        "# (1 mark)\n",
        "import matplotlib.pyplot as plt"
      ]
    },
    {
      "cell_type": "code",
      "execution_count": 100,
      "id": "995a219d-fa27-4948-a51d-88aad7a24731",
      "metadata": {
        "id": "995a219d-fa27-4948-a51d-88aad7a24731",
        "colab": {
          "base_uri": "https://localhost:8080/",
          "height": 582
        },
        "outputId": "a4e5f7bb-30a4-4cba-eb76-5d194ffb19a4"
      },
      "outputs": [
        {
          "output_type": "display_data",
          "data": {
            "text/plain": [
              "<Figure size 1000x600 with 1 Axes>"
            ],
            "image/png": "[encoded data removed]"
          },
          "metadata": {}
        },
        {
          "output_type": "stream",
          "name": "stdout",
          "text": [
            "StudentGradeHistogram.png  studentGrades_English.csv  studentGrades_Math.csv  studentHomerooms.csv\n"
          ]
        }
      ],
      "source": [
        "# Let's use matplotlib to display a histogram of the grades distribution\n",
        "# Histograms are useful for seeing the distribution of the students grades\n",
        "\n",
        "#plt.figure(figsize=(10, 6))\n",
        "#plt.hist(df_studentGrades['englishGrade'], bins=10, alpha=0.7, label='English Grades', color='blue')\n",
        "\n",
        "# Step 1: Use the line above as reference to create a histogram for the math grades\n",
        "# (1 mark)\n",
        "#\n",
        "import numpy as np\n",
        "bins = np.linspace(75, 100, 6)\n",
        "plt.figure(figsize=(10, 6))\n",
        "plt.hist([df_studentGrades['englishGrade'], df_studentGrades['mathGrade']], bins=bins, alpha=0.4,\n",
        "         label=['English Grades', 'Math Grades'], color=['blue', 'green'], stacked=True)\n",
        "\n",
        "# Step 2: Ensure that your plot is descriptive, so use labels (x and y axis), a title, and a legend.\n",
        "# Hint: Use the matplotlib .legend(loc='<location>') to add and place the legend.\n",
        "# You can use 'upper left', 'upper right', 'lower left', and 'lower right' to specify the location.\n",
        "# (4 marks)\n",
        "#\n",
        "plt.grid(True)\n",
        "plt.title('A histogram of the student math grades distribution')\n",
        "plt.xlabel('Score')\n",
        "plt.ylabel('Number of Students')\n",
        "plt.legend(loc='upper right')\n",
        "\n",
        "# Step 3: Use the .savefig('<image_title>'.png) to output an image file of the histogram.\n",
        "# Please be sure to use a descriptive title!\n",
        "# (1 mark)\n",
        "#\n",
        "plt.savefig('/content/drive/MyDrive/engg680_2024_fall/Lab_Assignment1/StudentGradeHistogram.png')\n",
        "plt.show()"
      ]
    },
    {
      "cell_type": "code",
      "execution_count": 106,
      "id": "631d4d69-dd89-4a31-a857-0f4eb1230bbc",
      "metadata": {
        "id": "631d4d69-dd89-4a31-a857-0f4eb1230bbc",
        "colab": {
          "base_uri": "https://localhost:8080/",
          "height": 564
        },
        "outputId": "66b08577-a650-43c7-cf14-6613ce41a61e"
      },
      "outputs": [
        {
          "output_type": "display_data",
          "data": {
            "text/plain": [
              "<Figure size 1000x600 with 1 Axes>"
            ],
            "image/png": "[encoded data removed]"
          },
          "metadata": {}
        }
      ],
      "source": [
        "# Let's also use matplotlib to display a scatter plot of English vs. Math grades\n",
        "# Scatter plots are useful for seeing the relationship between two variables\n",
        "\n",
        "# Step 1: Use .scatter(x_data, y_data) to create a scatter plot using the English grades on the x-axis, and Math grades on the y-axis\n",
        "# (2 mark)\n",
        "#\n",
        "plt.figure(figsize=(10, 6))\n",
        "plt.scatter(df_studentGrades['englishGrade'], df_studentGrades['mathGrade'], color='blue', alpha=0.7)\n",
        "\n",
        "# Step 1: Properly label the x and y axes as well as the title of your plot.\n",
        "# (3 marks)\n",
        "#\n",
        "plt.grid(True)\n",
        "plt.title('Scatter Plot of English vs. Math Grades')\n",
        "plt.xlabel('English Grade')\n",
        "plt.ylabel('Math Grade')\n",
        "\n",
        "# Step 2: Output an image file for the scatter plot with a descriptive file name\n",
        "# (1 mark)\n",
        "#\n",
        "plt.savefig('/content/drive/MyDrive/engg680_2024_fall/Lab_Assignment1/EnglishVsMathScatterPlot.png')\n",
        "plt.show()"
      ]
    },
    {
      "cell_type": "code",
      "execution_count": 105,
      "id": "B69uvG5uioH0",
      "metadata": {
        "id": "B69uvG5uioH0"
      },
      "outputs": [],
      "source": [
        "# From the scatter plot, is there a relationship between the Math and English grades?\n",
        "# (1 mark)\n",
        "# The scatter plot shows that there is no significant correlation between the students' English and Math grades,\n",
        "# as the points are almost evenly distributed across the scatter plot without indicating any specific correlation."
      ]
    },
    {
      "cell_type": "code",
      "source": [],
      "metadata": {
        "id": "9qVF2zBvS1xO"
      },
      "id": "9qVF2zBvS1xO",
      "execution_count": 107,
      "outputs": []
    }
  ],
  "metadata": {
    "colab": {
      "provenance": []
    },
    "kernelspec": {
      "display_name": "Python 3 (ipykernel)",
      "language": "python",
      "name": "python3"
    },
    "language_info": {
      "codemirror_mode": {
        "name": "ipython",
        "version": 3
      },
      "file_extension": ".py",
      "mimetype": "text/x-python",
      "name": "python",
      "nbconvert_exporter": "python",
      "pygments_lexer": "ipython3",
      "version": "3.10.9"
    }
  },
  "nbformat": 4,
  "nbformat_minor": 5
}